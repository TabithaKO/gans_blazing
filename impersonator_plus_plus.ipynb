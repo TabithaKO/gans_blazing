{
  "nbformat": 4,
  "nbformat_minor": 0,
  "metadata": {
    "accelerator": "GPU",
    "colab": {
      "name": "impersonator_plus_plus.ipynb",
      "provenance": [],
      "collapsed_sections": []
    },
    "kernelspec": {
      "display_name": "Python 3",
      "name": "python3"
    }
  },
  "cells": [
    {
      "cell_type": "markdown",
      "metadata": {
        "id": "HFLXe4HasHgr"
      },
      "source": [
        "## Note\n",
        "Make sure that your runtime type is 'Python 3.6+ with GPU acceleration'. To do so, go to Edit > Notebook settings > Hardware Accelerator > Select \"GPU\"."
      ]
    },
    {
      "cell_type": "markdown",
      "metadata": {
        "id": "2-7h5e_YtHvz"
      },
      "source": [
        "# Impersonator++\n",
        "\n",
        "All Resources:\n",
        "\n",
        "[![GitHub stars](https://img.shields.io/github/stars/iPERDance/iPERCore?style=social)](https://github.com/iPERDance/iPERCore)\n",
        "\n",
        "- Paper: https://arxiv.org/pdf/2011.09055.pdf\n",
        "- Repo: https://github.com/iPERDance/iPERCore\n",
        "- Project Page: https://www.impersonator.org/work/impersonator-plus-plus.html\n",
        "- Dataset https://svip-lab.github.io/dataset/iPER_dataset.html\n",
        "- Forum https://discuss.impersonator.org/\n",
        "\n",
        "\n"
      ]
    },
    {
      "cell_type": "code",
      "metadata": {
        "colab": {
          "base_uri": "https://localhost:8080/",
          "height": 580
        },
        "id": "hCqM2xQitKXj",
        "outputId": "18f89010-53de-4ea8-9e64-c4dd12397da3"
      },
      "source": [
        "#%%\n",
        "\n",
        "import IPython\n",
        "IPython.display.HTML(\n",
        "   '<h2>Demo</h2><iframe width=\"75%\" height=\"512\" src=\"https://www.impersonator.org/project_img/impersonator_plus_plus/demo_video/demo_1_512x512.mp4\" frameborder=\"0\" allow=\"accelerometer; autoplay; encrypted-media; gyroscope; picture-in-picture\" allowfullscreen></iframe>'\n",
        ")\n"
      ],
      "execution_count": 1,
      "outputs": [
        {
          "output_type": "execute_result",
          "data": {
            "text/html": [
              "<h2>Demo</h2><iframe width=\"75%\" height=\"512\" src=\"https://www.impersonator.org/project_img/impersonator_plus_plus/demo_video/demo_1_512x512.mp4\" frameborder=\"0\" allow=\"accelerometer; autoplay; encrypted-media; gyroscope; picture-in-picture\" allowfullscreen></iframe>"
            ],
            "text/plain": [
              "<IPython.core.display.HTML object>"
            ]
          },
          "metadata": {},
          "execution_count": 1
        }
      ]
    },
    {
      "cell_type": "markdown",
      "metadata": {
        "id": "1gbhC8six1TH"
      },
      "source": [
        "# Dependencies"
      ]
    },
    {
      "cell_type": "markdown",
      "metadata": {
        "id": "CHOju21fukSF"
      },
      "source": [
        "## System Requirements\n",
        " - Linux (test on Ubuntu 16.04 and 18.04) or Windows (test on windows 10)\n",
        " - CUDA 10.1, 10.2, or 11.0\n",
        " - gcc 7.5+ (needs to support C++14)\n",
        " - ffmpeg (ffprobe) 4.3.1+"
      ]
    },
    {
      "cell_type": "markdown",
      "metadata": {
        "id": "RtP9_liDxfxU"
      },
      "source": [
        "## Python Requirements\n",
        "- Python 3.6+\n",
        "- PyTorch tested on 1.7.0\n",
        "- Torchvison tested on 0.8.1\n",
        "- mmcv-full test on 1.2.0\n",
        "- numpy>=1.19.3\n",
        "- scipy>=1.5.2\n",
        "- scikit-image>=0.17.2\n",
        "- opencv-python>=4.4.0.40\n",
        "- tensorboardX>=2.1\n",
        "- tqdm>=4.48.2\n",
        "- visdom>=0.1.8.9\n",
        "- easydict>=1.9\n",
        "- toml>=0.10.2\n",
        "- git+https://github.com/open-mmlab/mmdetection.git@8179440ec5f75fe95484854af61ce6f6279f3bbc\n",
        "- git+https://github.com/open-mmlab/mmediting@d4086aaf8a36ae830f1714aad585900d24ad1156\n",
        "- git+https://github.com/iPERDance/neural_renderer.git@e5f54f71a8941acf372514eb92e289872f272653"
      ]
    },
    {
      "cell_type": "markdown",
      "metadata": {
        "id": "MQTh8Pl_w4MK"
      },
      "source": [
        "# 1. Installation\n"
      ]
    },
    {
      "cell_type": "markdown",
      "metadata": {
        "id": "rTjLpNgipXPR"
      },
      "source": [
        "## 1.1 Instal ffmpeg (ffprobe) and set CUDA_HOME to the system enviroments"
      ]
    },
    {
      "cell_type": "code",
      "metadata": {
        "colab": {
          "base_uri": "https://localhost:8080/"
        },
        "id": "3vPl00TgplS-",
        "outputId": "79a723cc-c662-4ddb-bf02-6e88c820b01c"
      },
      "source": [
        "# Install ffmpeg (ffprobe)\n",
        "!apt-get install ffmpeg"
      ],
      "execution_count": 2,
      "outputs": [
        {
          "output_type": "stream",
          "name": "stdout",
          "text": [
            "Reading package lists... Done\n",
            "Building dependency tree       \n",
            "Reading state information... Done\n",
            "ffmpeg is already the newest version (7:3.4.8-0ubuntu0.2).\n",
            "The following packages were automatically installed and are no longer required:\n",
            "  cuda-command-line-tools-10-0 cuda-command-line-tools-10-1\n",
            "  cuda-command-line-tools-11-0 cuda-compiler-10-0 cuda-compiler-10-1\n",
            "  cuda-compiler-11-0 cuda-cuobjdump-10-0 cuda-cuobjdump-10-1\n",
            "  cuda-cuobjdump-11-0 cuda-cupti-10-0 cuda-cupti-10-1 cuda-cupti-11-0\n",
            "  cuda-cupti-dev-11-0 cuda-documentation-10-0 cuda-documentation-10-1\n",
            "  cuda-documentation-11-0 cuda-documentation-11-1 cuda-gdb-10-0 cuda-gdb-10-1\n",
            "  cuda-gdb-11-0 cuda-gpu-library-advisor-10-0 cuda-gpu-library-advisor-10-1\n",
            "  cuda-libraries-10-0 cuda-libraries-10-1 cuda-libraries-11-0\n",
            "  cuda-memcheck-10-0 cuda-memcheck-10-1 cuda-memcheck-11-0 cuda-nsight-10-0\n",
            "  cuda-nsight-10-1 cuda-nsight-11-0 cuda-nsight-11-1 cuda-nsight-compute-10-0\n",
            "  cuda-nsight-compute-10-1 cuda-nsight-compute-11-0 cuda-nsight-compute-11-1\n",
            "  cuda-nsight-systems-10-1 cuda-nsight-systems-11-0 cuda-nsight-systems-11-1\n",
            "  cuda-nvcc-10-0 cuda-nvcc-10-1 cuda-nvcc-11-0 cuda-nvdisasm-10-0\n",
            "  cuda-nvdisasm-10-1 cuda-nvdisasm-11-0 cuda-nvml-dev-10-0 cuda-nvml-dev-10-1\n",
            "  cuda-nvml-dev-11-0 cuda-nvprof-10-0 cuda-nvprof-10-1 cuda-nvprof-11-0\n",
            "  cuda-nvprune-10-0 cuda-nvprune-10-1 cuda-nvprune-11-0 cuda-nvtx-10-0\n",
            "  cuda-nvtx-10-1 cuda-nvtx-11-0 cuda-nvvp-10-0 cuda-nvvp-10-1 cuda-nvvp-11-0\n",
            "  cuda-nvvp-11-1 cuda-samples-10-0 cuda-samples-10-1 cuda-samples-11-0\n",
            "  cuda-samples-11-1 cuda-sanitizer-11-0 cuda-sanitizer-api-10-1\n",
            "  cuda-toolkit-10-0 cuda-toolkit-10-1 cuda-toolkit-11-0 cuda-toolkit-11-1\n",
            "  cuda-tools-10-0 cuda-tools-10-1 cuda-tools-11-0 cuda-tools-11-1\n",
            "  cuda-visual-tools-10-0 cuda-visual-tools-10-1 cuda-visual-tools-11-0\n",
            "  cuda-visual-tools-11-1 default-jre dkms freeglut3 freeglut3-dev\n",
            "  keyboard-configuration libargon2-0 libcap2 libcryptsetup12\n",
            "  libdevmapper1.02.1 libfontenc1 libidn11 libip4tc0 libjansson4\n",
            "  libnvidia-cfg1-510 libnvidia-common-460 libnvidia-common-510\n",
            "  libnvidia-extra-510 libnvidia-fbc1-510 libnvidia-gl-510 libpam-systemd\n",
            "  libpolkit-agent-1-0 libpolkit-backend-1-0 libpolkit-gobject-1-0 libxfont2\n",
            "  libxi-dev libxkbfile1 libxmu-dev libxmu-headers libxnvctrl0 libxtst6\n",
            "  nsight-compute-2020.2.1 nsight-compute-2022.1.0 nsight-systems-2020.3.2\n",
            "  nsight-systems-2020.3.4 nsight-systems-2021.5.2 nvidia-dkms-510\n",
            "  nvidia-kernel-common-510 nvidia-kernel-source-510 nvidia-modprobe\n",
            "  nvidia-settings openjdk-11-jre policykit-1 policykit-1-gnome python3-xkit\n",
            "  screen-resolution-extra systemd systemd-sysv udev x11-xkb-utils\n",
            "  xserver-common xserver-xorg-core-hwe-18.04 xserver-xorg-video-nvidia-510\n",
            "Use 'apt autoremove' to remove them.\n",
            "0 upgraded, 0 newly installed, 0 to remove and 39 not upgraded.\n"
          ]
        }
      ]
    },
    {
      "cell_type": "code",
      "metadata": {
        "colab": {
          "base_uri": "https://localhost:8080/"
        },
        "id": "Q45P7Uicpsuc",
        "outputId": "7844faa2-253f-4a36-d687-ec3b93b8a86d"
      },
      "source": [
        "# set CUDA_HOME, here we use CUDA 10.1\n",
        "import os\n",
        "os.environ[\"CUDA_HOME\"] = \"/usr/local/cuda-10.1\"\n",
        "\n",
        "!echo $CUDA_HOME"
      ],
      "execution_count": 3,
      "outputs": [
        {
          "output_type": "stream",
          "name": "stdout",
          "text": [
            "/usr/local/cuda-10.1\n"
          ]
        }
      ]
    },
    {
      "cell_type": "markdown",
      "metadata": {
        "id": "uYAJxIf9xBxU"
      },
      "source": [
        "## 1.1 Clone iPERCore Github Repo"
      ]
    },
    {
      "cell_type": "code",
      "metadata": {
        "colab": {
          "base_uri": "https://localhost:8080/"
        },
        "id": "5J6oiRq1xKvm",
        "outputId": "97f7800d-cb37-4d66-a51b-1d4648e93e3c"
      },
      "source": [
        "!git clone https://github.com/iPERDance/iPERCore.git"
      ],
      "execution_count": 4,
      "outputs": [
        {
          "output_type": "stream",
          "name": "stdout",
          "text": [
            "Cloning into 'iPERCore'...\n",
            "remote: Enumerating objects: 864, done.\u001b[K\n",
            "remote: Counting objects: 100% (526/526), done.\u001b[K\n",
            "remote: Compressing objects: 100% (333/333), done.\u001b[K\n",
            "remote: Total 864 (delta 209), reused 396 (delta 173), pack-reused 338\u001b[K\n",
            "Receiving objects: 100% (864/864), 23.08 MiB | 14.67 MiB/s, done.\n",
            "Resolving deltas: 100% (275/275), done.\n"
          ]
        }
      ]
    },
    {
      "cell_type": "markdown",
      "metadata": {
        "id": "4Y9-b45uwx4f"
      },
      "source": [
        "## 1.2 Setup iPERCore"
      ]
    },
    {
      "cell_type": "code",
      "metadata": {
        "colab": {
          "base_uri": "https://localhost:8080/"
        },
        "id": "8aXNebVxv72E",
        "outputId": "7597cad2-99a8-475e-d74a-c966d54047e0"
      },
      "source": [
        "%cd /content/iPERCore/"
      ],
      "execution_count": 5,
      "outputs": [
        {
          "output_type": "stream",
          "name": "stdout",
          "text": [
            "/content/iPERCore\n"
          ]
        }
      ]
    },
    {
      "cell_type": "code",
      "metadata": {
        "colab": {
          "base_uri": "https://localhost:8080/"
        },
        "id": "eZAZlLRHH2lq",
        "outputId": "42c33062-7d2b-49e8-bf2c-7347b7565d34"
      },
      "source": [
        "!python setup.py develop"
      ],
      "execution_count": 6,
      "outputs": [
        {
          "output_type": "stream",
          "name": "stdout",
          "text": [
            "Cuda version is 10.1\n",
            "/usr/bin/python3 -m pip install pip==20.2.4\n",
            "Collecting pip==20.2.4\n",
            "  Downloading pip-20.2.4-py2.py3-none-any.whl (1.5 MB)\n",
            "\u001b[K     |████████████████████████████████| 1.5 MB 4.3 MB/s \n",
            "\u001b[?25hInstalling collected packages: pip\n",
            "  Attempting uninstall: pip\n",
            "    Found existing installation: pip 21.1.3\n",
            "    Uninstalling pip-21.1.3:\n",
            "      Successfully uninstalled pip-21.1.3\n",
            "\u001b[31mERROR: pip's dependency resolver does not currently take into account all the packages that are installed. This behaviour is the source of the following dependency conflicts.\n",
            "pip-tools 6.2.0 requires pip>=20.3, but you have pip 20.2.4 which is incompatible.\u001b[0m\n",
            "Successfully installed pip-20.2.4\n",
            "/usr/bin/python3 -m pip install torch==1.7.0+cu101 -f https://download.pytorch.org/whl/torch_stable.html\n",
            "Looking in links: https://download.pytorch.org/whl/torch_stable.html\n",
            "Collecting torch==1.7.0+cu101\n",
            "  Downloading https://download.pytorch.org/whl/cu101/torch-1.7.0%2Bcu101-cp37-cp37m-linux_x86_64.whl (735.3 MB)\n",
            "\u001b[K     |████████████████████████████████| 735.3 MB 24 kB/s \n",
            "\u001b[?25hCollecting dataclasses\n",
            "  Downloading dataclasses-0.6-py3-none-any.whl (14 kB)\n",
            "Requirement already satisfied: future in /usr/local/lib/python3.7/dist-packages (from torch==1.7.0+cu101) (0.16.0)\n",
            "Requirement already satisfied: typing-extensions in /usr/local/lib/python3.7/dist-packages (from torch==1.7.0+cu101) (3.10.0.2)\n",
            "Requirement already satisfied: numpy in /usr/local/lib/python3.7/dist-packages (from torch==1.7.0+cu101) (1.19.5)\n",
            "Installing collected packages: dataclasses, torch\n",
            "  Attempting uninstall: torch\n",
            "    Found existing installation: torch 1.10.0+cu111\n",
            "    Uninstalling torch-1.10.0+cu111:\n",
            "      Successfully uninstalled torch-1.10.0+cu111\n",
            "\u001b[31mERROR: After October 2020 you may experience errors when installing or updating packages. This is because pip will change the way that it resolves dependency conflicts.\n",
            "\n",
            "We recommend you use --use-feature=2020-resolver to test your packages with the new resolver before it becomes the default.\n",
            "\n",
            "torchvision 0.11.1+cu111 requires torch==1.10.0, but you'll have torch 1.7.0+cu101 which is incompatible.\n",
            "torchtext 0.11.0 requires torch==1.10.0, but you'll have torch 1.7.0+cu101 which is incompatible.\n",
            "torchaudio 0.10.0+cu111 requires torch==1.10.0, but you'll have torch 1.7.0+cu101 which is incompatible.\u001b[0m\n",
            "Successfully installed dataclasses-0.6 torch-1.7.0+cu101\n",
            "/usr/bin/python3 -m pip install torchvision==0.8.1+cu101 -f https://download.pytorch.org/whl/torch_stable.html\n",
            "Looking in links: https://download.pytorch.org/whl/torch_stable.html\n",
            "Collecting torchvision==0.8.1+cu101\n",
            "  Downloading https://download.pytorch.org/whl/cu101/torchvision-0.8.1%2Bcu101-cp37-cp37m-linux_x86_64.whl (12.7 MB)\n",
            "\u001b[K     |████████████████████████████████| 12.7 MB 17.1 MB/s \n",
            "\u001b[?25hRequirement already satisfied: pillow>=4.1.1 in /usr/local/lib/python3.7/dist-packages (from torchvision==0.8.1+cu101) (7.1.2)\n",
            "Requirement already satisfied: torch==1.7.0 in /usr/local/lib/python3.7/dist-packages (from torchvision==0.8.1+cu101) (1.7.0+cu101)\n",
            "Requirement already satisfied: numpy in /usr/local/lib/python3.7/dist-packages (from torchvision==0.8.1+cu101) (1.19.5)\n",
            "Requirement already satisfied: typing-extensions in /usr/local/lib/python3.7/dist-packages (from torch==1.7.0->torchvision==0.8.1+cu101) (3.10.0.2)\n",
            "Requirement already satisfied: future in /usr/local/lib/python3.7/dist-packages (from torch==1.7.0->torchvision==0.8.1+cu101) (0.16.0)\n",
            "Requirement already satisfied: dataclasses in /usr/local/lib/python3.7/dist-packages (from torch==1.7.0->torchvision==0.8.1+cu101) (0.6)\n",
            "Installing collected packages: torchvision\n",
            "  Attempting uninstall: torchvision\n",
            "    Found existing installation: torchvision 0.11.1+cu111\n",
            "    Uninstalling torchvision-0.11.1+cu111:\n",
            "      Successfully uninstalled torchvision-0.11.1+cu111\n",
            "Successfully installed torchvision-0.8.1+cu101\n",
            "/usr/bin/python3 -m pip install mmcv-full==1.2.0 -f https://download.openmmlab.com/mmcv/dist/cu101/torch1.7.0/index.html\n",
            "Looking in links: https://download.openmmlab.com/mmcv/dist/cu101/torch1.7.0/index.html\n",
            "Collecting mmcv-full==1.2.0\n",
            "  Downloading https://download.openmmlab.com/mmcv/dist/cu101/torch1.7.0/mmcv_full-1.2.0-cp37-cp37m-manylinux1_x86_64.whl (19.8 MB)\n",
            "\u001b[K     |████████████████████████████████| 19.8 MB 605 kB/s \n",
            "\u001b[?25hRequirement already satisfied: numpy in /usr/local/lib/python3.7/dist-packages (from mmcv-full==1.2.0) (1.19.5)\n",
            "Requirement already satisfied: Pillow in /usr/local/lib/python3.7/dist-packages (from mmcv-full==1.2.0) (7.1.2)\n",
            "Requirement already satisfied: opencv-python>=3 in /usr/local/lib/python3.7/dist-packages (from mmcv-full==1.2.0) (4.1.2.30)\n",
            "Collecting yapf\n",
            "  Downloading yapf-0.32.0-py2.py3-none-any.whl (190 kB)\n",
            "\u001b[K     |████████████████████████████████| 190 kB 4.1 MB/s \n",
            "\u001b[?25hRequirement already satisfied: pyyaml in /usr/local/lib/python3.7/dist-packages (from mmcv-full==1.2.0) (3.13)\n",
            "Collecting addict\n",
            "  Downloading addict-2.4.0-py3-none-any.whl (3.8 kB)\n",
            "Installing collected packages: yapf, addict, mmcv-full\n",
            "Successfully installed addict-2.4.0 mmcv-full-1.2.0 yapf-0.32.0\n",
            "/usr/bin/python3 -m pip install numpy>=1.19.3\n",
            "Requirement already satisfied: numpy>=1.19.3 in /usr/local/lib/python3.7/dist-packages (1.19.5)\n",
            "/usr/bin/python3 -m pip install numpy>=1.19.3\n",
            "Requirement already satisfied: numpy>=1.19.3 in /usr/local/lib/python3.7/dist-packages (1.19.5)\n",
            "/usr/bin/python3 -m pip install scipy>=1.5.2\n",
            "Collecting scipy>=1.5.2\n",
            "  Downloading scipy-1.7.3-cp37-cp37m-manylinux_2_12_x86_64.manylinux2010_x86_64.whl (38.1 MB)\n",
            "\u001b[K     |████████████████████████████████| 38.1 MB 289 kB/s \n",
            "\u001b[?25hRequirement already satisfied: numpy<1.23.0,>=1.16.5 in /usr/local/lib/python3.7/dist-packages (from scipy>=1.5.2) (1.19.5)\n",
            "Installing collected packages: scipy\n",
            "  Attempting uninstall: scipy\n",
            "    Found existing installation: scipy 1.4.1\n",
            "    Uninstalling scipy-1.4.1:\n",
            "      Successfully uninstalled scipy-1.4.1\n",
            "\u001b[31mERROR: After October 2020 you may experience errors when installing or updating packages. This is because pip will change the way that it resolves dependency conflicts.\n",
            "\n",
            "We recommend you use --use-feature=2020-resolver to test your packages with the new resolver before it becomes the default.\n",
            "\n",
            "albumentations 0.1.12 requires imgaug<0.2.7,>=0.2.5, but you'll have imgaug 0.2.9 which is incompatible.\u001b[0m\n",
            "Successfully installed scipy-1.7.3\n",
            "/usr/bin/python3 -m pip install scikit-image>=0.17.2\n",
            "Requirement already satisfied: scikit-image>=0.17.2 in /usr/local/lib/python3.7/dist-packages (0.18.3)\n",
            "Requirement already satisfied: pillow!=7.1.0,!=7.1.1,>=4.3.0 in /usr/local/lib/python3.7/dist-packages (from scikit-image>=0.17.2) (7.1.2)\n",
            "Requirement already satisfied: PyWavelets>=1.1.1 in /usr/local/lib/python3.7/dist-packages (from scikit-image>=0.17.2) (1.2.0)\n",
            "Requirement already satisfied: numpy>=1.16.5 in /usr/local/lib/python3.7/dist-packages (from scikit-image>=0.17.2) (1.19.5)\n",
            "Requirement already satisfied: tifffile>=2019.7.26 in /usr/local/lib/python3.7/dist-packages (from scikit-image>=0.17.2) (2021.11.2)\n",
            "Requirement already satisfied: imageio>=2.3.0 in /usr/local/lib/python3.7/dist-packages (from scikit-image>=0.17.2) (2.4.1)\n",
            "Requirement already satisfied: matplotlib!=3.0.0,>=2.0.0 in /usr/local/lib/python3.7/dist-packages (from scikit-image>=0.17.2) (3.2.2)\n",
            "Requirement already satisfied: scipy>=1.0.1 in /usr/local/lib/python3.7/dist-packages (from scikit-image>=0.17.2) (1.7.3)\n",
            "Requirement already satisfied: networkx>=2.0 in /usr/local/lib/python3.7/dist-packages (from scikit-image>=0.17.2) (2.6.3)\n",
            "Requirement already satisfied: pyparsing!=2.0.4,!=2.1.2,!=2.1.6,>=2.0.1 in /usr/local/lib/python3.7/dist-packages (from matplotlib!=3.0.0,>=2.0.0->scikit-image>=0.17.2) (3.0.7)\n",
            "Requirement already satisfied: kiwisolver>=1.0.1 in /usr/local/lib/python3.7/dist-packages (from matplotlib!=3.0.0,>=2.0.0->scikit-image>=0.17.2) (1.3.2)\n",
            "Requirement already satisfied: cycler>=0.10 in /usr/local/lib/python3.7/dist-packages (from matplotlib!=3.0.0,>=2.0.0->scikit-image>=0.17.2) (0.11.0)\n",
            "Requirement already satisfied: python-dateutil>=2.1 in /usr/local/lib/python3.7/dist-packages (from matplotlib!=3.0.0,>=2.0.0->scikit-image>=0.17.2) (2.8.2)\n",
            "Requirement already satisfied: six>=1.5 in /usr/local/lib/python3.7/dist-packages (from python-dateutil>=2.1->matplotlib!=3.0.0,>=2.0.0->scikit-image>=0.17.2) (1.15.0)\n",
            "/usr/bin/python3 -m pip install opencv-python>=4.4.0.40\n",
            "Collecting opencv-python>=4.4.0.40\n",
            "  Downloading opencv_python-4.5.5.62-cp36-abi3-manylinux_2_17_x86_64.manylinux2014_x86_64.whl (60.4 MB)\n",
            "\u001b[K     |████████████████████████████████| 60.4 MB 1.1 MB/s \n",
            "\u001b[?25hRequirement already satisfied: numpy>=1.14.5; python_version >= \"3.7\" in /usr/local/lib/python3.7/dist-packages (from opencv-python>=4.4.0.40) (1.19.5)\n",
            "Installing collected packages: opencv-python\n",
            "  Attempting uninstall: opencv-python\n",
            "    Found existing installation: opencv-python 4.1.2.30\n",
            "    Uninstalling opencv-python-4.1.2.30:\n",
            "      Successfully uninstalled opencv-python-4.1.2.30\n",
            "\u001b[31mERROR: After October 2020 you may experience errors when installing or updating packages. This is because pip will change the way that it resolves dependency conflicts.\n",
            "\n",
            "We recommend you use --use-feature=2020-resolver to test your packages with the new resolver before it becomes the default.\n",
            "\n",
            "albumentations 0.1.12 requires imgaug<0.2.7,>=0.2.5, but you'll have imgaug 0.2.9 which is incompatible.\u001b[0m\n",
            "Successfully installed opencv-python-4.5.5.62\n",
            "/usr/bin/python3 -m pip install tensorboardX>=2.1\n",
            "Collecting tensorboardX>=2.1\n",
            "  Downloading tensorboardX-2.4.1-py2.py3-none-any.whl (124 kB)\n",
            "\u001b[K     |████████████████████████████████| 124 kB 4.3 MB/s \n",
            "\u001b[?25hRequirement already satisfied: numpy in /usr/local/lib/python3.7/dist-packages (from tensorboardX>=2.1) (1.19.5)\n",
            "Requirement already satisfied: protobuf>=3.8.0 in /usr/local/lib/python3.7/dist-packages (from tensorboardX>=2.1) (3.17.3)\n",
            "Requirement already satisfied: six>=1.9 in /usr/local/lib/python3.7/dist-packages (from protobuf>=3.8.0->tensorboardX>=2.1) (1.15.0)\n",
            "Installing collected packages: tensorboardX\n",
            "Successfully installed tensorboardX-2.4.1\n",
            "/usr/bin/python3 -m pip install tqdm>=4.48.2\n",
            "Requirement already satisfied: tqdm>=4.48.2 in /usr/local/lib/python3.7/dist-packages (4.62.3)\n",
            "/usr/bin/python3 -m pip install visdom>=0.1.8.9\n",
            "Collecting visdom>=0.1.8.9\n",
            "  Downloading visdom-0.1.8.9.tar.gz (676 kB)\n",
            "\u001b[K     |████████████████████████████████| 676 kB 4.1 MB/s \n",
            "\u001b[?25hRequirement already satisfied: numpy>=1.8 in /usr/local/lib/python3.7/dist-packages (from visdom>=0.1.8.9) (1.19.5)\n",
            "Requirement already satisfied: scipy in /usr/local/lib/python3.7/dist-packages (from visdom>=0.1.8.9) (1.7.3)\n",
            "Requirement already satisfied: requests in /usr/local/lib/python3.7/dist-packages (from visdom>=0.1.8.9) (2.23.0)\n",
            "Requirement already satisfied: tornado in /usr/local/lib/python3.7/dist-packages (from visdom>=0.1.8.9) (5.1.1)\n",
            "Requirement already satisfied: pyzmq in /usr/local/lib/python3.7/dist-packages (from visdom>=0.1.8.9) (22.3.0)\n",
            "Requirement already satisfied: six in /usr/local/lib/python3.7/dist-packages (from visdom>=0.1.8.9) (1.15.0)\n",
            "Collecting jsonpatch\n",
            "  Downloading jsonpatch-1.32-py2.py3-none-any.whl (12 kB)\n",
            "Collecting torchfile\n",
            "  Downloading torchfile-0.1.0.tar.gz (5.2 kB)\n",
            "Collecting websocket-client\n",
            "  Downloading websocket_client-1.2.3-py3-none-any.whl (53 kB)\n",
            "\u001b[K     |████████████████████████████████| 53 kB 2.9 MB/s \n",
            "\u001b[?25hRequirement already satisfied: pillow in /usr/local/lib/python3.7/dist-packages (from visdom>=0.1.8.9) (7.1.2)\n",
            "Requirement already satisfied: urllib3!=1.25.0,!=1.25.1,<1.26,>=1.21.1 in /usr/local/lib/python3.7/dist-packages (from requests->visdom>=0.1.8.9) (1.24.3)\n",
            "Requirement already satisfied: idna<3,>=2.5 in /usr/local/lib/python3.7/dist-packages (from requests->visdom>=0.1.8.9) (2.10)\n",
            "Requirement already satisfied: chardet<4,>=3.0.2 in /usr/local/lib/python3.7/dist-packages (from requests->visdom>=0.1.8.9) (3.0.4)\n",
            "Requirement already satisfied: certifi>=2017.4.17 in /usr/local/lib/python3.7/dist-packages (from requests->visdom>=0.1.8.9) (2021.10.8)\n",
            "Collecting jsonpointer>=1.9\n",
            "  Downloading jsonpointer-2.2-py2.py3-none-any.whl (7.5 kB)\n",
            "Building wheels for collected packages: visdom, torchfile\n",
            "  Building wheel for visdom (setup.py) ... \u001b[?25l\u001b[?25hdone\n",
            "  Created wheel for visdom: filename=visdom-0.1.8.9-py3-none-any.whl size=655250 sha256=14391c6097bae1ac71322e163513ef2814659f205d562b00f53e9e1ee00c74c8\n",
            "  Stored in directory: /root/.cache/pip/wheels/2d/d1/9b/cde923274eac9cbb6ff0d8c7c72fe30a3da9095a38fd50bbf1\n",
            "  Building wheel for torchfile (setup.py) ... \u001b[?25l\u001b[?25hdone\n",
            "  Created wheel for torchfile: filename=torchfile-0.1.0-py3-none-any.whl size=5709 sha256=43e5d0262499a07d06e97adff9bb8e5a0271e73a5a66a830ae9f1c40aeae7217\n",
            "  Stored in directory: /root/.cache/pip/wheels/ac/5c/3a/a80e1c65880945c71fd833408cd1e9a8cb7e2f8f37620bb75b\n",
            "Successfully built visdom torchfile\n",
            "Installing collected packages: jsonpointer, jsonpatch, torchfile, websocket-client, visdom\n",
            "Successfully installed jsonpatch-1.32 jsonpointer-2.2 torchfile-0.1.0 visdom-0.1.8.9 websocket-client-1.2.3\n",
            "/usr/bin/python3 -m pip install easydict>=1.9\n",
            "Requirement already satisfied: easydict>=1.9 in /usr/local/lib/python3.7/dist-packages (1.9)\n",
            "/usr/bin/python3 -m pip install toml>=0.10.2\n",
            "Collecting toml>=0.10.2\n",
            "  Downloading toml-0.10.2-py2.py3-none-any.whl (16 kB)\n",
            "Installing collected packages: toml\n",
            "Successfully installed toml-0.10.2\n",
            "/usr/bin/python3 -m pip install git+https://github.com/open-mmlab/mmdetection.git@8179440ec5f75fe95484854af61ce6f6279f3bbc\n",
            "Collecting git+https://github.com/open-mmlab/mmdetection.git@8179440ec5f75fe95484854af61ce6f6279f3bbc\n",
            "  Cloning https://github.com/open-mmlab/mmdetection.git (to revision 8179440ec5f75fe95484854af61ce6f6279f3bbc) to /tmp/pip-req-build-ra6tjagu\n",
            "Requirement already satisfied: matplotlib in /usr/local/lib/python3.7/dist-packages (from mmdet==2.6.0) (3.2.2)\n",
            "Collecting mmpycocotools\n",
            "  Downloading mmpycocotools-12.0.3.tar.gz (23 kB)\n",
            "Requirement already satisfied: numpy in /usr/local/lib/python3.7/dist-packages (from mmdet==2.6.0) (1.19.5)\n",
            "Requirement already satisfied: six in /usr/local/lib/python3.7/dist-packages (from mmdet==2.6.0) (1.15.0)\n",
            "Collecting terminaltables\n",
            "  Downloading terminaltables-3.1.10-py2.py3-none-any.whl (15 kB)\n",
            "Requirement already satisfied: kiwisolver>=1.0.1 in /usr/local/lib/python3.7/dist-packages (from matplotlib->mmdet==2.6.0) (1.3.2)\n",
            "Requirement already satisfied: python-dateutil>=2.1 in /usr/local/lib/python3.7/dist-packages (from matplotlib->mmdet==2.6.0) (2.8.2)\n",
            "Requirement already satisfied: pyparsing!=2.0.4,!=2.1.2,!=2.1.6,>=2.0.1 in /usr/local/lib/python3.7/dist-packages (from matplotlib->mmdet==2.6.0) (3.0.7)\n",
            "Requirement already satisfied: cycler>=0.10 in /usr/local/lib/python3.7/dist-packages (from matplotlib->mmdet==2.6.0) (0.11.0)\n",
            "Requirement already satisfied: setuptools>=18.0 in /usr/local/lib/python3.7/dist-packages (from mmpycocotools->mmdet==2.6.0) (57.4.0)\n",
            "Requirement already satisfied: cython>=0.27.3 in /usr/local/lib/python3.7/dist-packages (from mmpycocotools->mmdet==2.6.0) (0.29.27)\n",
            "Building wheels for collected packages: mmdet, mmpycocotools\n",
            "  Building wheel for mmdet (setup.py) ... \u001b[?25l\u001b[?25hdone\n",
            "  Created wheel for mmdet: filename=mmdet-2.6.0-py3-none-any.whl size=490171 sha256=1eb667cd995b82cf49c525d42277d54d12c31329024b12195e99ac3e3ea8c5e6\n",
            "  Stored in directory: /root/.cache/pip/wheels/c1/07/c9/55f832a7f1740f48e9ef244ed2b15d6bb042b75244ce041edd\n",
            "  Building wheel for mmpycocotools (setup.py) ... \u001b[?25l\u001b[?25hdone\n",
            "  Created wheel for mmpycocotools: filename=mmpycocotools-12.0.3-cp37-cp37m-linux_x86_64.whl size=264292 sha256=63ebb0cb9b28abeccaff72d56457c3fb56a9cb0e71407a7ac8eadd6f2f437948\n",
            "  Stored in directory: /root/.cache/pip/wheels/cc/fa/4a/067979eccddf6a22b46722493df8e07b0541956a5ab5bac8b1\n",
            "Successfully built mmdet mmpycocotools\n",
            "Installing collected packages: mmpycocotools, terminaltables, mmdet\n",
            "Successfully installed mmdet-2.6.0 mmpycocotools-12.0.3 terminaltables-3.1.10\n",
            "/usr/bin/python3 -m pip install git+https://github.com/open-mmlab/mmediting@d4086aaf8a36ae830f1714aad585900d24ad1156\n",
            "Collecting git+https://github.com/open-mmlab/mmediting@d4086aaf8a36ae830f1714aad585900d24ad1156\n",
            "  Cloning https://github.com/open-mmlab/mmediting (to revision d4086aaf8a36ae830f1714aad585900d24ad1156) to /tmp/pip-req-build-7ilovg60\n",
            "Requirement already satisfied: lmdb in /usr/local/lib/python3.7/dist-packages (from mmedit==0.5.0) (0.99)\n",
            "Requirement already satisfied: mmcv-full>=1.0.0 in /usr/local/lib/python3.7/dist-packages (from mmedit==0.5.0) (1.2.0)\n",
            "Requirement already satisfied: scikit-image in /usr/local/lib/python3.7/dist-packages (from mmedit==0.5.0) (0.18.3)\n",
            "Requirement already satisfied: tensorboard in /usr/local/lib/python3.7/dist-packages (from mmedit==0.5.0) (2.7.0)\n",
            "Requirement already satisfied: yapf in /usr/local/lib/python3.7/dist-packages (from mmedit==0.5.0) (0.32.0)\n",
            "Requirement already satisfied: pyyaml in /usr/local/lib/python3.7/dist-packages (from mmcv-full>=1.0.0->mmedit==0.5.0) (3.13)\n",
            "Requirement already satisfied: numpy in /usr/local/lib/python3.7/dist-packages (from mmcv-full>=1.0.0->mmedit==0.5.0) (1.19.5)\n",
            "Requirement already satisfied: Pillow in /usr/local/lib/python3.7/dist-packages (from mmcv-full>=1.0.0->mmedit==0.5.0) (7.1.2)\n",
            "Requirement already satisfied: addict in /usr/local/lib/python3.7/dist-packages (from mmcv-full>=1.0.0->mmedit==0.5.0) (2.4.0)\n",
            "Requirement already satisfied: opencv-python>=3 in /usr/local/lib/python3.7/dist-packages (from mmcv-full>=1.0.0->mmedit==0.5.0) (4.5.5.62)\n",
            "Requirement already satisfied: scipy>=1.0.1 in /usr/local/lib/python3.7/dist-packages (from scikit-image->mmedit==0.5.0) (1.7.3)\n",
            "Requirement already satisfied: matplotlib!=3.0.0,>=2.0.0 in /usr/local/lib/python3.7/dist-packages (from scikit-image->mmedit==0.5.0) (3.2.2)\n",
            "Requirement already satisfied: imageio>=2.3.0 in /usr/local/lib/python3.7/dist-packages (from scikit-image->mmedit==0.5.0) (2.4.1)\n",
            "Requirement already satisfied: networkx>=2.0 in /usr/local/lib/python3.7/dist-packages (from scikit-image->mmedit==0.5.0) (2.6.3)\n",
            "Requirement already satisfied: PyWavelets>=1.1.1 in /usr/local/lib/python3.7/dist-packages (from scikit-image->mmedit==0.5.0) (1.2.0)\n",
            "Requirement already satisfied: tifffile>=2019.7.26 in /usr/local/lib/python3.7/dist-packages (from scikit-image->mmedit==0.5.0) (2021.11.2)\n",
            "Requirement already satisfied: grpcio>=1.24.3 in /usr/local/lib/python3.7/dist-packages (from tensorboard->mmedit==0.5.0) (1.43.0)\n",
            "Requirement already satisfied: setuptools>=41.0.0 in /usr/local/lib/python3.7/dist-packages (from tensorboard->mmedit==0.5.0) (57.4.0)\n",
            "Requirement already satisfied: werkzeug>=0.11.15 in /usr/local/lib/python3.7/dist-packages (from tensorboard->mmedit==0.5.0) (1.0.1)\n",
            "Requirement already satisfied: markdown>=2.6.8 in /usr/local/lib/python3.7/dist-packages (from tensorboard->mmedit==0.5.0) (3.3.6)\n",
            "Requirement already satisfied: google-auth-oauthlib<0.5,>=0.4.1 in /usr/local/lib/python3.7/dist-packages (from tensorboard->mmedit==0.5.0) (0.4.6)\n",
            "Requirement already satisfied: wheel>=0.26 in /usr/local/lib/python3.7/dist-packages (from tensorboard->mmedit==0.5.0) (0.37.1)\n",
            "Requirement already satisfied: tensorboard-plugin-wit>=1.6.0 in /usr/local/lib/python3.7/dist-packages (from tensorboard->mmedit==0.5.0) (1.8.1)\n",
            "Requirement already satisfied: google-auth<3,>=1.6.3 in /usr/local/lib/python3.7/dist-packages (from tensorboard->mmedit==0.5.0) (1.35.0)\n",
            "Requirement already satisfied: absl-py>=0.4 in /usr/local/lib/python3.7/dist-packages (from tensorboard->mmedit==0.5.0) (1.0.0)\n",
            "Requirement already satisfied: protobuf>=3.6.0 in /usr/local/lib/python3.7/dist-packages (from tensorboard->mmedit==0.5.0) (3.17.3)\n",
            "Requirement already satisfied: tensorboard-data-server<0.7.0,>=0.6.0 in /usr/local/lib/python3.7/dist-packages (from tensorboard->mmedit==0.5.0) (0.6.1)\n",
            "Requirement already satisfied: requests<3,>=2.21.0 in /usr/local/lib/python3.7/dist-packages (from tensorboard->mmedit==0.5.0) (2.23.0)\n",
            "Requirement already satisfied: pyparsing!=2.0.4,!=2.1.2,!=2.1.6,>=2.0.1 in /usr/local/lib/python3.7/dist-packages (from matplotlib!=3.0.0,>=2.0.0->scikit-image->mmedit==0.5.0) (3.0.7)\n",
            "Requirement already satisfied: python-dateutil>=2.1 in /usr/local/lib/python3.7/dist-packages (from matplotlib!=3.0.0,>=2.0.0->scikit-image->mmedit==0.5.0) (2.8.2)\n",
            "Requirement already satisfied: kiwisolver>=1.0.1 in /usr/local/lib/python3.7/dist-packages (from matplotlib!=3.0.0,>=2.0.0->scikit-image->mmedit==0.5.0) (1.3.2)\n",
            "Requirement already satisfied: cycler>=0.10 in /usr/local/lib/python3.7/dist-packages (from matplotlib!=3.0.0,>=2.0.0->scikit-image->mmedit==0.5.0) (0.11.0)\n",
            "Requirement already satisfied: six>=1.5.2 in /usr/local/lib/python3.7/dist-packages (from grpcio>=1.24.3->tensorboard->mmedit==0.5.0) (1.15.0)\n",
            "Requirement already satisfied: importlib-metadata>=4.4; python_version < \"3.10\" in /usr/local/lib/python3.7/dist-packages (from markdown>=2.6.8->tensorboard->mmedit==0.5.0) (4.10.1)\n",
            "Requirement already satisfied: requests-oauthlib>=0.7.0 in /usr/local/lib/python3.7/dist-packages (from google-auth-oauthlib<0.5,>=0.4.1->tensorboard->mmedit==0.5.0) (1.3.1)\n",
            "Requirement already satisfied: cachetools<5.0,>=2.0.0 in /usr/local/lib/python3.7/dist-packages (from google-auth<3,>=1.6.3->tensorboard->mmedit==0.5.0) (4.2.4)\n",
            "Requirement already satisfied: pyasn1-modules>=0.2.1 in /usr/local/lib/python3.7/dist-packages (from google-auth<3,>=1.6.3->tensorboard->mmedit==0.5.0) (0.2.8)\n",
            "Requirement already satisfied: rsa<5,>=3.1.4; python_version >= \"3.6\" in /usr/local/lib/python3.7/dist-packages (from google-auth<3,>=1.6.3->tensorboard->mmedit==0.5.0) (4.8)\n",
            "Requirement already satisfied: idna<3,>=2.5 in /usr/local/lib/python3.7/dist-packages (from requests<3,>=2.21.0->tensorboard->mmedit==0.5.0) (2.10)\n",
            "Requirement already satisfied: certifi>=2017.4.17 in /usr/local/lib/python3.7/dist-packages (from requests<3,>=2.21.0->tensorboard->mmedit==0.5.0) (2021.10.8)\n",
            "Requirement already satisfied: urllib3!=1.25.0,!=1.25.1,<1.26,>=1.21.1 in /usr/local/lib/python3.7/dist-packages (from requests<3,>=2.21.0->tensorboard->mmedit==0.5.0) (1.24.3)\n",
            "Requirement already satisfied: chardet<4,>=3.0.2 in /usr/local/lib/python3.7/dist-packages (from requests<3,>=2.21.0->tensorboard->mmedit==0.5.0) (3.0.4)\n",
            "Requirement already satisfied: typing-extensions>=3.6.4; python_version < \"3.8\" in /usr/local/lib/python3.7/dist-packages (from importlib-metadata>=4.4; python_version < \"3.10\"->markdown>=2.6.8->tensorboard->mmedit==0.5.0) (3.10.0.2)\n",
            "Requirement already satisfied: zipp>=0.5 in /usr/local/lib/python3.7/dist-packages (from importlib-metadata>=4.4; python_version < \"3.10\"->markdown>=2.6.8->tensorboard->mmedit==0.5.0) (3.7.0)\n",
            "Requirement already satisfied: oauthlib>=3.0.0 in /usr/local/lib/python3.7/dist-packages (from requests-oauthlib>=0.7.0->google-auth-oauthlib<0.5,>=0.4.1->tensorboard->mmedit==0.5.0) (3.2.0)\n",
            "Requirement already satisfied: pyasn1<0.5.0,>=0.4.6 in /usr/local/lib/python3.7/dist-packages (from pyasn1-modules>=0.2.1->google-auth<3,>=1.6.3->tensorboard->mmedit==0.5.0) (0.4.8)\n",
            "Building wheels for collected packages: mmedit\n",
            "  Building wheel for mmedit (setup.py) ... \u001b[?25l\u001b[?25hdone\n",
            "  Created wheel for mmedit: filename=mmedit-0.5.0-py2.py3-none-any.whl size=220163 sha256=5adadc1c7fea2bbcfdf03b4035525fecf3e00435534657e03b94925e50eab76c\n",
            "  Stored in directory: /root/.cache/pip/wheels/e4/96/40/2b20e71f449b7769d9626c6197c4e10693fa5853b7345f9bdd\n",
            "Successfully built mmedit\n",
            "Installing collected packages: mmedit\n",
            "Successfully installed mmedit-0.5.0\n",
            "/usr/bin/python3 -m pip install git+https://github.com/iPERDance/neural_renderer.git@e5f54f71a8941acf372514eb92e289872f272653\n",
            "Collecting git+https://github.com/iPERDance/neural_renderer.git@e5f54f71a8941acf372514eb92e289872f272653\n",
            "  Cloning https://github.com/iPERDance/neural_renderer.git (to revision e5f54f71a8941acf372514eb92e289872f272653) to /tmp/pip-req-build-wdpwiuo6\n",
            "Requirement already satisfied: numpy in /usr/local/lib/python3.7/dist-packages (from neural-renderer==1.1.3) (1.19.5)\n",
            "Requirement already satisfied: torch in /usr/local/lib/python3.7/dist-packages (from neural-renderer==1.1.3) (1.7.0+cu101)\n",
            "Requirement already satisfied: torchvision in /usr/local/lib/python3.7/dist-packages (from neural-renderer==1.1.3) (0.8.1+cu101)\n",
            "Requirement already satisfied: scikit-image in /usr/local/lib/python3.7/dist-packages (from neural-renderer==1.1.3) (0.18.3)\n",
            "Requirement already satisfied: tqdm in /usr/local/lib/python3.7/dist-packages (from neural-renderer==1.1.3) (4.62.3)\n",
            "Requirement already satisfied: imageio in /usr/local/lib/python3.7/dist-packages (from neural-renderer==1.1.3) (2.4.1)\n",
            "Requirement already satisfied: dataclasses in /usr/local/lib/python3.7/dist-packages (from torch->neural-renderer==1.1.3) (0.6)\n",
            "Requirement already satisfied: future in /usr/local/lib/python3.7/dist-packages (from torch->neural-renderer==1.1.3) (0.16.0)\n",
            "Requirement already satisfied: typing-extensions in /usr/local/lib/python3.7/dist-packages (from torch->neural-renderer==1.1.3) (3.10.0.2)\n",
            "Requirement already satisfied: pillow>=4.1.1 in /usr/local/lib/python3.7/dist-packages (from torchvision->neural-renderer==1.1.3) (7.1.2)\n",
            "Requirement already satisfied: networkx>=2.0 in /usr/local/lib/python3.7/dist-packages (from scikit-image->neural-renderer==1.1.3) (2.6.3)\n",
            "Requirement already satisfied: matplotlib!=3.0.0,>=2.0.0 in /usr/local/lib/python3.7/dist-packages (from scikit-image->neural-renderer==1.1.3) (3.2.2)\n",
            "Requirement already satisfied: scipy>=1.0.1 in /usr/local/lib/python3.7/dist-packages (from scikit-image->neural-renderer==1.1.3) (1.7.3)\n",
            "Requirement already satisfied: tifffile>=2019.7.26 in /usr/local/lib/python3.7/dist-packages (from scikit-image->neural-renderer==1.1.3) (2021.11.2)\n",
            "Requirement already satisfied: PyWavelets>=1.1.1 in /usr/local/lib/python3.7/dist-packages (from scikit-image->neural-renderer==1.1.3) (1.2.0)\n",
            "Requirement already satisfied: cycler>=0.10 in /usr/local/lib/python3.7/dist-packages (from matplotlib!=3.0.0,>=2.0.0->scikit-image->neural-renderer==1.1.3) (0.11.0)\n",
            "Requirement already satisfied: python-dateutil>=2.1 in /usr/local/lib/python3.7/dist-packages (from matplotlib!=3.0.0,>=2.0.0->scikit-image->neural-renderer==1.1.3) (2.8.2)\n",
            "Requirement already satisfied: kiwisolver>=1.0.1 in /usr/local/lib/python3.7/dist-packages (from matplotlib!=3.0.0,>=2.0.0->scikit-image->neural-renderer==1.1.3) (1.3.2)\n",
            "Requirement already satisfied: pyparsing!=2.0.4,!=2.1.2,!=2.1.6,>=2.0.1 in /usr/local/lib/python3.7/dist-packages (from matplotlib!=3.0.0,>=2.0.0->scikit-image->neural-renderer==1.1.3) (3.0.7)\n",
            "Requirement already satisfied: six>=1.5 in /usr/local/lib/python3.7/dist-packages (from python-dateutil>=2.1->matplotlib!=3.0.0,>=2.0.0->scikit-image->neural-renderer==1.1.3) (1.15.0)\n",
            "Building wheels for collected packages: neural-renderer\n",
            "  Building wheel for neural-renderer (setup.py) ... \u001b[?25l\u001b[?25hdone\n",
            "  Created wheel for neural-renderer: filename=neural_renderer-1.1.3-cp37-cp37m-linux_x86_64.whl size=5690411 sha256=13c63e1f30026c57cd6a1058e1662fc2f56e159b3428fee291134fbd83283d6a\n",
            "  Stored in directory: /root/.cache/pip/wheels/06/62/a4/71ebf253f9481f653ec789c5e0ac11c14a31fac223001a7a3f\n",
            "Successfully built neural-renderer\n",
            "Installing collected packages: neural-renderer\n",
            "Successfully installed neural-renderer-1.1.3\n",
            "running develop\n",
            "running egg_info\n",
            "creating iPERCore.egg-info\n",
            "writing iPERCore.egg-info/PKG-INFO\n",
            "writing dependency_links to iPERCore.egg-info/dependency_links.txt\n",
            "writing entry points to iPERCore.egg-info/entry_points.txt\n",
            "writing requirements to iPERCore.egg-info/requires.txt\n",
            "writing top-level names to iPERCore.egg-info/top_level.txt\n",
            "writing manifest file 'iPERCore.egg-info/SOURCES.txt'\n",
            "adding license file 'LICENSE'\n",
            "writing manifest file 'iPERCore.egg-info/SOURCES.txt'\n",
            "running build_ext\n",
            "Creating /usr/local/lib/python3.7/dist-packages/iPERCore.egg-link (link to .)\n",
            "Adding iPERCore 0.2.0 to easy-install.pth file\n",
            "Installing run_imitator script to /usr/local/bin\n",
            "Installing run_swapper script to /usr/local/bin\n",
            "Installing run_viewer script to /usr/local/bin\n",
            "\n",
            "Installed /content/iPERCore\n",
            "Processing dependencies for iPERCore==0.2.0\n",
            "Searching for toml==0.10.2\n",
            "Best match: toml 0.10.2\n",
            "Adding toml 0.10.2 to easy-install.pth file\n",
            "\n",
            "Using /usr/local/lib/python3.7/dist-packages\n",
            "Searching for easydict==1.9\n",
            "Best match: easydict 1.9\n",
            "Adding easydict 1.9 to easy-install.pth file\n",
            "\n",
            "Using /usr/local/lib/python3.7/dist-packages\n",
            "Searching for visdom==0.1.8.9\n",
            "Best match: visdom 0.1.8.9\n",
            "Adding visdom 0.1.8.9 to easy-install.pth file\n",
            "Installing visdom script to /usr/local/bin\n",
            "\n",
            "Using /usr/local/lib/python3.7/dist-packages\n",
            "Searching for tqdm==4.62.3\n",
            "Best match: tqdm 4.62.3\n",
            "Adding tqdm 4.62.3 to easy-install.pth file\n",
            "Installing tqdm script to /usr/local/bin\n",
            "\n",
            "Using /usr/local/lib/python3.7/dist-packages\n",
            "Searching for tensorboardX==2.4.1\n",
            "Best match: tensorboardX 2.4.1\n",
            "Adding tensorboardX 2.4.1 to easy-install.pth file\n",
            "\n",
            "Using /usr/local/lib/python3.7/dist-packages\n",
            "Searching for opencv-python==4.5.5.62\n",
            "Best match: opencv-python 4.5.5.62\n",
            "Adding opencv-python 4.5.5.62 to easy-install.pth file\n",
            "\n",
            "Using /usr/local/lib/python3.7/dist-packages\n",
            "Searching for scikit-image==0.18.3\n",
            "Best match: scikit-image 0.18.3\n",
            "Adding scikit-image 0.18.3 to easy-install.pth file\n",
            "Installing skivi script to /usr/local/bin\n",
            "\n",
            "Using /usr/local/lib/python3.7/dist-packages\n",
            "Searching for scipy==1.7.3\n",
            "Best match: scipy 1.7.3\n",
            "Adding scipy 1.7.3 to easy-install.pth file\n",
            "\n",
            "Using /usr/local/lib/python3.7/dist-packages\n",
            "Searching for numpy==1.19.5\n",
            "Best match: numpy 1.19.5\n",
            "Adding numpy 1.19.5 to easy-install.pth file\n",
            "Installing f2py script to /usr/local/bin\n",
            "Installing f2py3 script to /usr/local/bin\n",
            "Installing f2py3.7 script to /usr/local/bin\n",
            "\n",
            "Using /usr/local/lib/python3.7/dist-packages\n",
            "Searching for torchfile==0.1.0\n",
            "Best match: torchfile 0.1.0\n",
            "Adding torchfile 0.1.0 to easy-install.pth file\n",
            "\n",
            "Using /usr/local/lib/python3.7/dist-packages\n",
            "Searching for requests==2.23.0\n",
            "Best match: requests 2.23.0\n",
            "Adding requests 2.23.0 to easy-install.pth file\n",
            "\n",
            "Using /usr/local/lib/python3.7/dist-packages\n",
            "Searching for jsonpatch==1.32\n",
            "Best match: jsonpatch 1.32\n",
            "Adding jsonpatch 1.32 to easy-install.pth file\n",
            "\n",
            "Using /usr/local/lib/python3.7/dist-packages\n",
            "Searching for Pillow==7.1.2\n",
            "Best match: Pillow 7.1.2\n",
            "Adding Pillow 7.1.2 to easy-install.pth file\n",
            "\n",
            "Using /usr/local/lib/python3.7/dist-packages\n",
            "Searching for six==1.15.0\n",
            "Best match: six 1.15.0\n",
            "Adding six 1.15.0 to easy-install.pth file\n",
            "\n",
            "Using /usr/local/lib/python3.7/dist-packages\n",
            "Searching for pyzmq==22.3.0\n",
            "Best match: pyzmq 22.3.0\n",
            "Adding pyzmq 22.3.0 to easy-install.pth file\n",
            "\n",
            "Using /usr/local/lib/python3.7/dist-packages\n",
            "Searching for websocket-client==1.2.3\n",
            "Best match: websocket-client 1.2.3\n",
            "Adding websocket-client 1.2.3 to easy-install.pth file\n",
            "Installing wsdump script to /usr/local/bin\n",
            "\n",
            "Using /usr/local/lib/python3.7/dist-packages\n",
            "Searching for tornado==5.1.1\n",
            "Best match: tornado 5.1.1\n",
            "Adding tornado 5.1.1 to easy-install.pth file\n",
            "\n",
            "Using /usr/local/lib/python3.7/dist-packages\n",
            "Searching for protobuf==3.17.3\n",
            "Best match: protobuf 3.17.3\n",
            "Adding protobuf 3.17.3 to easy-install.pth file\n",
            "\n",
            "Using /usr/local/lib/python3.7/dist-packages\n",
            "Searching for tifffile==2021.11.2\n",
            "Best match: tifffile 2021.11.2\n",
            "Adding tifffile 2021.11.2 to easy-install.pth file\n",
            "Installing lsm2bin script to /usr/local/bin\n",
            "Installing tiff2fsspec script to /usr/local/bin\n",
            "Installing tiffcomment script to /usr/local/bin\n",
            "Installing tifffile script to /usr/local/bin\n",
            "\n",
            "Using /usr/local/lib/python3.7/dist-packages\n",
            "Searching for PyWavelets==1.2.0\n",
            "Best match: PyWavelets 1.2.0\n",
            "Adding PyWavelets 1.2.0 to easy-install.pth file\n",
            "\n",
            "Using /usr/local/lib/python3.7/dist-packages\n",
            "Searching for networkx==2.6.3\n",
            "Best match: networkx 2.6.3\n",
            "Adding networkx 2.6.3 to easy-install.pth file\n",
            "\n",
            "Using /usr/local/lib/python3.7/dist-packages\n",
            "Searching for matplotlib==3.2.2\n",
            "Best match: matplotlib 3.2.2\n",
            "Adding matplotlib 3.2.2 to easy-install.pth file\n",
            "\n",
            "Using /usr/local/lib/python3.7/dist-packages\n",
            "Searching for imageio==2.4.1\n",
            "Best match: imageio 2.4.1\n",
            "Adding imageio 2.4.1 to easy-install.pth file\n",
            "Installing imageio_download_bin script to /usr/local/bin\n",
            "Installing imageio_remove_bin script to /usr/local/bin\n",
            "\n",
            "Using /usr/local/lib/python3.7/dist-packages\n",
            "Searching for idna==2.10\n",
            "Best match: idna 2.10\n",
            "Adding idna 2.10 to easy-install.pth file\n",
            "\n",
            "Using /usr/local/lib/python3.7/dist-packages\n",
            "Searching for certifi==2021.10.8\n",
            "Best match: certifi 2021.10.8\n",
            "Adding certifi 2021.10.8 to easy-install.pth file\n",
            "\n",
            "Using /usr/local/lib/python3.7/dist-packages\n",
            "Searching for chardet==3.0.4\n",
            "Best match: chardet 3.0.4\n",
            "Adding chardet 3.0.4 to easy-install.pth file\n",
            "Installing chardetect script to /usr/local/bin\n",
            "\n",
            "Using /usr/local/lib/python3.7/dist-packages\n",
            "Searching for urllib3==1.24.3\n",
            "Best match: urllib3 1.24.3\n",
            "Adding urllib3 1.24.3 to easy-install.pth file\n",
            "\n",
            "Using /usr/local/lib/python3.7/dist-packages\n",
            "Searching for jsonpointer==2.2\n",
            "Best match: jsonpointer 2.2\n",
            "Adding jsonpointer 2.2 to easy-install.pth file\n",
            "\n",
            "Using /usr/local/lib/python3.7/dist-packages\n",
            "Searching for cycler==0.11.0\n",
            "Best match: cycler 0.11.0\n",
            "Adding cycler 0.11.0 to easy-install.pth file\n",
            "\n",
            "Using /usr/local/lib/python3.7/dist-packages\n",
            "Searching for pyparsing==3.0.7\n",
            "Best match: pyparsing 3.0.7\n",
            "Adding pyparsing 3.0.7 to easy-install.pth file\n",
            "\n",
            "Using /usr/local/lib/python3.7/dist-packages\n",
            "Searching for python-dateutil==2.8.2\n",
            "Best match: python-dateutil 2.8.2\n",
            "Adding python-dateutil 2.8.2 to easy-install.pth file\n",
            "\n",
            "Using /usr/local/lib/python3.7/dist-packages\n",
            "Searching for kiwisolver==1.3.2\n",
            "Best match: kiwisolver 1.3.2\n",
            "Adding kiwisolver 1.3.2 to easy-install.pth file\n",
            "\n",
            "Using /usr/local/lib/python3.7/dist-packages\n",
            "Finished processing dependencies for iPERCore==0.2.0\n"
          ]
        }
      ]
    },
    {
      "cell_type": "markdown",
      "metadata": {
        "id": "b1DYsa76zvMY"
      },
      "source": [
        "## 1.3 Download assets\n",
        "The assets contain all pre-trained models (**checkpoints.zip**), and other executable files (**executables.zip**, this one is only used for Windows. Linux ignores it), such as ffmpeg and ffprobe.\n",
        "\n",
        "Download links: \n",
        "  - checkpoints: https://download.impersonator.org/iper_plus_plus_latest_checkpoints.zip\n",
        "  - samples: https://download.impersonator.org/iper_plus_plus_latest_samples.zip\n",
        "\n",
        "You can manually download the **checkpoints.zip**, unzip it, and mv the **checkpoints** (as well as the **samples**) to **assets** folder. \n",
        "\n",
        " Otherwise, you can just run the following scripts to automaticially do these."
      ]
    },
    {
      "cell_type": "code",
      "metadata": {
        "colab": {
          "base_uri": "https://localhost:8080/"
        },
        "id": "yqFnPDBHN5WO",
        "outputId": "a0f850db-4190-4c0f-9a25-46f47c5ab8e7"
      },
      "source": [
        "# Download all checkpoints\n",
        "#!wget -O assets/checkpoints.zip \"https://1drv.ws/u/s!AjjUqiJZsj8whLkwQyrk3W9_H7MzNA?e=rRje0G\"\n",
        "!wget -O assets/checkpoints.zip \"https://download.impersonator.org/iper_plus_plus_latest_checkpoints.zip\"\n",
        "!unzip -o assets/checkpoints.zip -d assets/\n",
        "\n",
        "!rm assets/checkpoints.zip"
      ],
      "execution_count": 7,
      "outputs": [
        {
          "output_type": "stream",
          "name": "stdout",
          "text": [
            "--2022-02-09 20:55:28--  https://download.impersonator.org/iper_plus_plus_latest_checkpoints.zip\n",
            "Resolving download.impersonator.org (download.impersonator.org)... 101.32.75.151\n",
            "Connecting to download.impersonator.org (download.impersonator.org)|101.32.75.151|:443... connected.\n",
            "HTTP request sent, awaiting response... 302 Found\n",
            "Location: ./iper_plus_plus_1.0.0_checkpoints.zip [following]\n",
            "--2022-02-09 20:55:28--  https://download.impersonator.org/iper_plus_plus_1.0.0_checkpoints.zip\n",
            "Reusing existing connection to download.impersonator.org:443.\n",
            "HTTP request sent, awaiting response... 302 Found\n",
            "Location: https://svimages.impersonator.org/checkpoints.zip [following]\n",
            "--2022-02-09 20:55:28--  https://svimages.impersonator.org/checkpoints.zip\n",
            "Resolving svimages.impersonator.org (svimages.impersonator.org)... 101.32.75.151\n",
            "Connecting to svimages.impersonator.org (svimages.impersonator.org)|101.32.75.151|:443... connected.\n",
            "HTTP request sent, awaiting response... 302 Found\n",
            "Location: https://public.bn.files.1drv.com/y4mEil35vT8Cq-awj2M_ZWsOtd5IX_Viyo5sR9_7X6NmQBPtuXicfq6a821-YJhTnq2-_HUehIl95lT5aUgk7wMVZg7yxTaTWRwx2-S7374jv5Q9gT1ozECHh6ulM6Y7oaMjMDTLKT4V7jP7Aug9jqSq4z_SSYT8GELdMEfSAwJSiZ-kJot-wR7Mdd7z4cBP0gma6nVznARuWsV0v7tTxgC5TOja0nyHR5MlYGmcpNa39EeoQczd9TF1I0lx0a-o4_n [following]\n",
            "--2022-02-09 20:55:28--  https://public.bn.files.1drv.com/y4mEil35vT8Cq-awj2M_ZWsOtd5IX_Viyo5sR9_7X6NmQBPtuXicfq6a821-YJhTnq2-_HUehIl95lT5aUgk7wMVZg7yxTaTWRwx2-S7374jv5Q9gT1ozECHh6ulM6Y7oaMjMDTLKT4V7jP7Aug9jqSq4z_SSYT8GELdMEfSAwJSiZ-kJot-wR7Mdd7z4cBP0gma6nVznARuWsV0v7tTxgC5TOja0nyHR5MlYGmcpNa39EeoQczd9TF1I0lx0a-o4_n\n",
            "Resolving public.bn.files.1drv.com (public.bn.files.1drv.com)... 13.107.42.12\n",
            "Connecting to public.bn.files.1drv.com (public.bn.files.1drv.com)|13.107.42.12|:443... connected.\n",
            "HTTP request sent, awaiting response... 200 OK\n",
            "Length: 1243286164 (1.2G) [application/zip]\n",
            "Saving to: ‘assets/checkpoints.zip’\n",
            "\n",
            "assets/checkpoints. 100%[===================>]   1.16G  11.4MB/s    in 77s     \n",
            "\n",
            "2022-02-09 20:56:48 (15.4 MB/s) - ‘assets/checkpoints.zip’ saved [1243286164/1243286164]\n",
            "\n",
            "Archive:  assets/checkpoints.zip\n",
            "   creating: assets/checkpoints/\n",
            "   creating: assets/checkpoints/detection/\n",
            "  inflating: assets/checkpoints/detection/point_rend_r50_caffe_fpn_mstrain_3x_coco-e0ebb6b7.pth  \n",
            "   creating: assets/checkpoints/inpainting/\n",
            "  inflating: assets/checkpoints/inpainting/deepfillv2_256x256_8x2_places_20200619-10d15793.pth  \n",
            "   creating: assets/checkpoints/losses/\n",
            "  inflating: assets/checkpoints/losses/sphere20a_20171020.pth  \n",
            "  inflating: assets/checkpoints/losses/vgg19-dcbb9e9d.pth  \n",
            "   creating: assets/checkpoints/mattors/\n",
            "  inflating: assets/checkpoints/mattors/exp-schp-lip.pth  \n",
            "  inflating: assets/checkpoints/mattors/gca_r34_4x10_200k_comp1k_SAD-34.77_20200604_213848-4369bea0.pth  \n",
            "   creating: assets/checkpoints/neural_renders/\n",
            "  inflating: assets/checkpoints/neural_renders/AttLWB-SPADE_id_G_2020-05-18.pth  \n",
            "   creating: assets/checkpoints/pose2d/\n",
            "  inflating: assets/checkpoints/pose2d/mobilenet_body18.pth  \n",
            "  inflating: assets/checkpoints/pose2d/openpose_body25.pth  \n",
            "   creating: assets/checkpoints/pose3d/\n",
            "  inflating: assets/checkpoints/pose3d/front_body.json  \n",
            "  inflating: assets/checkpoints/pose3d/front_facial.json  \n",
            "  inflating: assets/checkpoints/pose3d/gmm_08.pkl  \n",
            "  inflating: assets/checkpoints/pose3d/head.json  \n",
            "  inflating: assets/checkpoints/pose3d/mapper_fim_enc.txt  \n",
            "  inflating: assets/checkpoints/pose3d/mapper_uv.txt  \n",
            "  inflating: assets/checkpoints/pose3d/smpl_faces.npy  \n",
            "  inflating: assets/checkpoints/pose3d/smpl_model.pkl  \n",
            "  inflating: assets/checkpoints/pose3d/smpl_model_with_hand_v2.pkl  \n",
            "  inflating: assets/checkpoints/pose3d/smpl_part_info.json  \n",
            "  inflating: assets/checkpoints/pose3d/spin_ckpt.pth  \n",
            "   creating: assets/checkpoints/restorers/\n",
            "  inflating: assets/checkpoints/restorers/esrgan_psnr_x4c64b23g32_1x16_1000k_div2k_20200420-bf5c993c.pth  \n"
          ]
        }
      ]
    },
    {
      "cell_type": "code",
      "metadata": {
        "colab": {
          "base_uri": "https://localhost:8080/"
        },
        "id": "-_QjX1FzsEQI",
        "outputId": "af4943d4-be42-4153-afc5-afbab8ebe05b"
      },
      "source": [
        "# download samples\n",
        "# !wget -O assets/samples.zip \"https://1drv.ws/u/s!AjjUqiJZsj8whLobQPpoxo2hfhURrA?e=EUyIC2\"\n",
        "!wget -O assets/samples.zip  \"https://download.impersonator.org/iper_plus_plus_latest_samples.zip\"\n",
        "!unzip -o assets/samples.zip -d  assets\n",
        "!rm assets/samples.zip"
      ],
      "execution_count": 8,
      "outputs": [
        {
          "output_type": "stream",
          "name": "stdout",
          "text": [
            "--2022-02-09 20:57:02--  https://download.impersonator.org/iper_plus_plus_latest_samples.zip\n",
            "Resolving download.impersonator.org (download.impersonator.org)... 101.32.75.151\n",
            "Connecting to download.impersonator.org (download.impersonator.org)|101.32.75.151|:443... connected.\n",
            "HTTP request sent, awaiting response... 302 Found\n",
            "Location: ./iper_plus_plus_1.0.0_samples.zip [following]\n",
            "--2022-02-09 20:57:02--  https://download.impersonator.org/iper_plus_plus_1.0.0_samples.zip\n",
            "Reusing existing connection to download.impersonator.org:443.\n",
            "HTTP request sent, awaiting response... 302 Found\n",
            "Location: https://svimages.impersonator.org/samples.zip [following]\n",
            "--2022-02-09 20:57:02--  https://svimages.impersonator.org/samples.zip\n",
            "Resolving svimages.impersonator.org (svimages.impersonator.org)... 101.32.75.151\n",
            "Connecting to svimages.impersonator.org (svimages.impersonator.org)|101.32.75.151|:443... connected.\n",
            "HTTP request sent, awaiting response... 302 Found\n",
            "Location: https://public.bn.files.1drv.com/y4mdWl0UFMaaJrNy0eB9dvdOrztAC0XG8qHwmolpX34qsljNkrP9s_zPmFZdcqYFagCmLDO2EWdTinXsvWce1mnj2D6w1U4erlg5XEmiFNABHVCsepBHwC8AcV0Cb8aiHWPSm-M-1-ZeFBWdnxaOE9NDjrBblDFCLLSe4yvXRgwXvqLbBOHNj7ktN67gHlXAnhtcIJuikgI9m9TF_WILaoG-OVHvC1ia8XCsjaAJapm3nz629iAVwCAazcf8mHfr_eT [following]\n",
            "--2022-02-09 20:57:02--  https://public.bn.files.1drv.com/y4mdWl0UFMaaJrNy0eB9dvdOrztAC0XG8qHwmolpX34qsljNkrP9s_zPmFZdcqYFagCmLDO2EWdTinXsvWce1mnj2D6w1U4erlg5XEmiFNABHVCsepBHwC8AcV0Cb8aiHWPSm-M-1-ZeFBWdnxaOE9NDjrBblDFCLLSe4yvXRgwXvqLbBOHNj7ktN67gHlXAnhtcIJuikgI9m9TF_WILaoG-OVHvC1ia8XCsjaAJapm3nz629iAVwCAazcf8mHfr_eT\n",
            "Resolving public.bn.files.1drv.com (public.bn.files.1drv.com)... 13.107.42.12\n",
            "Connecting to public.bn.files.1drv.com (public.bn.files.1drv.com)|13.107.42.12|:443... connected.\n",
            "HTTP request sent, awaiting response... 200 OK\n",
            "Length: 251759768 (240M) [application/zip]\n",
            "Saving to: ‘assets/samples.zip’\n",
            "\n",
            "assets/samples.zip  100%[===================>] 240.10M  15.4MB/s    in 12s     \n",
            "\n",
            "2022-02-09 20:57:16 (19.3 MB/s) - ‘assets/samples.zip’ saved [251759768/251759768]\n",
            "\n",
            "Archive:  assets/samples.zip\n",
            "  inflating: assets/samples/references/aini.mp4  \n",
            "  inflating: assets/samples/references/akGexYZug2Q_2.mp4.mp4  \n",
            "  inflating: assets/samples/references/akun_1.mp4  \n",
            "  inflating: assets/samples/references/akun_2.mp4  \n",
            "  inflating: assets/samples/references/Av37667655_2.mp4  \n",
            "  inflating: assets/samples/references/bantangzhuyi_1.mp4  \n",
            "  inflating: assets/samples/references/BV1rD4y1Q72j_2.mp4  \n",
            "  inflating: assets/samples/references/chengfengpolang_1.mp4  \n",
            "  inflating: assets/samples/references/kuailechongbai_boy.mp4  \n",
            "  inflating: assets/samples/references/mabaoguo.mp4  \n",
            "  inflating: assets/samples/references/mabaoguo_short.mp4  \n",
            "   creating: assets/samples/sources/001_18_1/\n",
            "  inflating: assets/samples/sources/001_18_1/000.jpg  \n",
            "  inflating: assets/samples/sources/001_18_1/190.jpg  \n",
            "   creating: assets/samples/sources/001_19_1/\n",
            "  inflating: assets/samples/sources/001_19_1/000.jpg  \n",
            "  inflating: assets/samples/sources/001_19_1/120.jpg  \n",
            "   creating: assets/samples/sources/5NJIkUmh_h0/\n",
            " extracting: assets/samples/sources/5NJIkUmh_h0/0001.PNG  \n",
            "   creating: assets/samples/sources/91iZ9x8NI0S/\n",
            "  inflating: assets/samples/sources/91iZ9x8NI0S/frame_00000026.png  \n",
            "   creating: assets/samples/sources/afan_3/\n",
            "   creating: assets/samples/sources/afan_3/afan_3/\n",
            "  inflating: assets/samples/sources/afan_3/afan_3/IMG_7129.JPG  \n",
            "  inflating: assets/samples/sources/afan_3/afan_3/IMG_7131.JPG  \n",
            "  inflating: assets/samples/sources/afan_3/IMG_7128.JPG  \n",
            "   creating: assets/samples/sources/afan_6/\n",
            "   creating: assets/samples/sources/afan_6/afan_6/\n",
            "   creating: assets/samples/sources/afan_6/afan_6=ns=2/\n",
            "  inflating: assets/samples/sources/afan_6/afan_6=ns=2/IMG_7218.JPG  \n",
            "  inflating: assets/samples/sources/afan_6/afan_6=ns=2/IMG_7221.JPG  \n",
            "  inflating: assets/samples/sources/afan_6/afan_6/IMG_7218.JPG  \n",
            "  inflating: assets/samples/sources/afan_6/afan_6/IMG_7219.JPG  \n",
            "  inflating: assets/samples/sources/afan_6/afan_6/IMG_7220.JPG  \n",
            "  inflating: assets/samples/sources/afan_6/afan_6/IMG_7221.JPG  \n",
            "  inflating: assets/samples/sources/afan_6/afan_6/IMG_7222.JPG  \n",
            "  inflating: assets/samples/sources/afan_6/afan_6/IMG_7223.JPG  \n",
            "  inflating: assets/samples/sources/afan_6/afan_6/IMG_7224.JPG  \n",
            "  inflating: assets/samples/sources/afan_6/IMG_7217.JPG  \n",
            "   creating: assets/samples/sources/axing_1/\n",
            "  inflating: assets/samples/sources/axing_1/000.jpg  \n",
            "  inflating: assets/samples/sources/axing_1/125.jpg  \n",
            "   creating: assets/samples/sources/axing_7/\n",
            "   creating: assets/samples/sources/axing_7/axing_7/\n",
            "   creating: assets/samples/sources/axing_7/axing_7=2/\n",
            "  inflating: assets/samples/sources/axing_7/axing_7=2/IMG_7234.JPG  \n",
            "  inflating: assets/samples/sources/axing_7/axing_7=2/IMG_7237.JPG  \n",
            "  inflating: assets/samples/sources/axing_7/axing_7/IMG_7234.JPG  \n",
            "  inflating: assets/samples/sources/axing_7/axing_7/IMG_7235.JPG  \n",
            "  inflating: assets/samples/sources/axing_7/axing_7/IMG_7236.JPG  \n",
            "  inflating: assets/samples/sources/axing_7/axing_7/IMG_7237.JPG  \n",
            "  inflating: assets/samples/sources/axing_7/axing_7/IMG_7238.JPG  \n",
            "  inflating: assets/samples/sources/axing_7/axing_7/IMG_7239.JPG  \n",
            "  inflating: assets/samples/sources/axing_7/IMG_7233.JPG  \n",
            "   creating: assets/samples/sources/caixukun2/\n",
            "  inflating: assets/samples/sources/caixukun2/caixukun_front_full_size.png  \n",
            "  inflating: assets/samples/sources/caixukun2/frame00000597.png  \n",
            "   creating: assets/samples/sources/cartoon_12/\n",
            "  inflating: assets/samples/sources/cartoon_12/0.jpg  \n",
            "  inflating: assets/samples/sources/cartoon_12/1.jpg  \n",
            " extracting: assets/samples/sources/donald_trump_2/00000.PNG  \n",
            "   creating: assets/samples/sources/fange_1/\n",
            "   creating: assets/samples/sources/fange_1/fange_1_ns=2/\n",
            "  inflating: assets/samples/sources/fange_1/fange_1_ns=2/IMG_7227.JPG  \n",
            "  inflating: assets/samples/sources/fange_1/fange_1_ns=2/IMG_7230.JPG  \n",
            "   creating: assets/samples/sources/fange_1/fange_1_ns=6/\n",
            "  inflating: assets/samples/sources/fange_1/fange_1_ns=6/IMG_7227.JPG  \n",
            "  inflating: assets/samples/sources/fange_1/fange_1_ns=6/IMG_7228.JPG  \n",
            "  inflating: assets/samples/sources/fange_1/fange_1_ns=6/IMG_7229.JPG  \n",
            "  inflating: assets/samples/sources/fange_1/fange_1_ns=6/IMG_7230.JPG  \n",
            "  inflating: assets/samples/sources/fange_1/fange_1_ns=6/IMG_7231.JPG  \n",
            "  inflating: assets/samples/sources/fange_1/fange_1_ns=6/IMG_7232.JPG  \n",
            "  inflating: assets/samples/sources/fange_1/IMG_7225.JPG  \n",
            "   creating: assets/samples/sources/google_1/\n",
            "  inflating: assets/samples/sources/google_1/0.jpg  \n",
            "   creating: assets/samples/sources/google_2/\n",
            "  inflating: assets/samples/sources/google_2/01.jpg  \n",
            "  inflating: assets/samples/sources/google_2/02.png  \n",
            "   creating: assets/samples/sources/mabaoguo_v2/\n",
            "  inflating: assets/samples/sources/mabaoguo_v2/mabaoguo_1.png  \n",
            "  inflating: assets/samples/sources/mabaoguo_v2/mabaoguo_back_full_size.png  \n",
            "  inflating: assets/samples/sources/skirts3.jpg  \n",
            "   creating: assets/samples/sources/stephen_curry/\n",
            "  inflating: assets/samples/sources/stephen_curry/0000.webp  \n",
            "   creating: assets/samples/sources/WabSbZp9dII_1/\n",
            " extracting: assets/samples/sources/WabSbZp9dII_1/frame_00011159.png  \n",
            " extracting: assets/samples/sources/wangyibo_2.jpg  \n",
            "   creating: assets/samples/sources/wtW2R7hTImA_1/\n",
            "  inflating: assets/samples/sources/wtW2R7hTImA_1/frame_00000920.png  \n"
          ]
        }
      ]
    },
    {
      "cell_type": "markdown",
      "metadata": {
        "id": "Ffbq0leDOUGS"
      },
      "source": [
        "# Run Motion Imitation Demo"
      ]
    },
    {
      "cell_type": "code",
      "metadata": {
        "colab": {
          "base_uri": "https://localhost:8080/"
        },
        "id": "y9KymQM8z6sH",
        "outputId": "abed38e9-6e0a-49b8-d51a-8d198704a328"
      },
      "source": [
        "%cd /content/iPERCore/"
      ],
      "execution_count": 9,
      "outputs": [
        {
          "output_type": "stream",
          "name": "stdout",
          "text": [
            "/content/iPERCore\n"
          ]
        }
      ]
    },
    {
      "cell_type": "code",
      "metadata": {
        "id": "BJskZDTiEKMB"
      },
      "source": [
        "import os\n",
        "import os.path as osp\n",
        "import platform\n",
        "import argparse\n",
        "import time\n",
        "import sys\n",
        "import subprocess\n",
        "from IPython.display import HTML\n",
        "from base64 import b64encode"
      ],
      "execution_count": 10,
      "outputs": []
    },
    {
      "cell_type": "markdown",
      "metadata": {
        "id": "lo9IgZwsOmBd"
      },
      "source": [
        "## Details of Config\n",
        " - gpu_ids (str): the gpu_ids, default is \"0\";\n",
        " - image_size (int): the image size, default is 512;\n",
        " - num_source (int): the number of source images for Attention, default is 2. Large needs more GPU memory;\n",
        " - assets_dir (str): the assets directory. This is very important, and there are the configurations and all pre-trained checkpoints;\n",
        " - output_dir (str): the output directory;\n",
        "\n",
        " - src_path (str): the source input information. \n",
        "       All source paths and it supports multiple paths, uses \"|\" as the separator between all paths. \n",
        "       The format is \"src_path_1|src_path_2|src_path_3\". \n",
        "       \n",
        "       Each src_input is \"path?=path1,name?=name1,bg_path?=bg_path1\". \n",
        "       \n",
        "       It must contain 'path'. If 'name' and 'bg_path' are empty, they will be ignored.\n",
        "\n",
        "       The 'path' could be an image path, a path of a directory contains source images, and a video path.\n",
        "\n",
        "       The 'name' is the rename of this source input, if it is empty, we will ignore it, and use the filename of the path.\n",
        "\n",
        "       The 'bg_path' is the actual background path if provided, otherwise we will ignore it.\n",
        "       \n",
        "       There are several examples of formated source paths,\n",
        "\n",
        "        1. \"path?=path1,name?=name1,bg_path?=bg_path1|path?=path2,name?=name2,bg_path?=bg_path2\",\n",
        "        this input will be parsed as [{path: path1, name: name1, bg_path:bg_path1},\n",
        "        {path: path2, name: name2, bg_path: bg_path2}];\n",
        "\n",
        "        2. \"path?=path1,name?=name1|path?=path2,name?=name2\", this input will be parsed as\n",
        "        [{path: path1, name:name1}, {path: path2, name: name2}];\n",
        "\n",
        "        3. \"path?=path1\", this input will be parsed as [{path: path1}].\n",
        "\n",
        "        4. \"path1\", this will be parsed as [{path: path1}].\n",
        "\n",
        " - ref_path (str): the reference input information.\n",
        "       \n",
        "       All reference paths. It supports multiple paths, and uses \"|\" as the separator between all paths.\n",
        "       The format is \"ref_path_1|ref_path_2|ref_path_3\".\n",
        "\n",
        "       Each ref_path is \"path?=path1,name?=name1,audio?=audio_path1,fps?=30,pose_fc?=300,cam_fc?=150\".\n",
        "\n",
        "       It must contain 'path', and others could be empty, and they will be ignored.\n",
        "\n",
        "       The 'path' could be an image path, a path of a directory contains images of a same person, and a video path.\n",
        "\n",
        "       The 'name' is the rename of this source input, if it is empty, we will ignore it, and use the filename of the path.\n",
        "\n",
        "       The 'audio' is the audio path, if it is empty, we will ignore it. If the 'path' is a video,\n",
        "        you can ignore this, and we will firstly extract the audio information of this video (if it has audio channel).\n",
        "\n",
        "       The 'fps' is fps of the final outputs, if it is empty, we will set it as the default fps 25.\n",
        "\n",
        "       The 'pose_fc' is the smooth factor of the temporal poses. The smaller of this value, the smoother of the temporal poses. If it is empty, we will set it as the default 300. In the most cases, using the default 300 is enough, and if you find the poses of the outputs are not stable, you can decrease this value. Otherwise, if you find the poses of the outputs are over stable, you can increase this value.\n",
        "\n",
        "       The 'cam_fc' is the smooth factor of the temporal cameras (locations in the image space). The smaller of this value, the smoother of the locations in sequences. If it is empty, we will set it as the default 150. In the most cases, the default 150 is enough.\n",
        "\n",
        "       There are several examples of formated reference paths,\n",
        "\n",
        "        1. \"path?=path1,name?=name1,audio?=audio_path1,fps?=30,pose_fc?=300,cam_fc?=150|\n",
        "            path?=path2,name?=name2,audio?=audio_path2,fps?=25,pose_fc?=450,cam_fc?=200\",\n",
        "            this input will be parsed as\n",
        "            [{path: path1, name: name1, audio: audio_path1, fps: 30, pose_fc: 300, cam_fc: 150},\n",
        "             {path: path2, name: name2, audio: audio_path2, fps: 25, pose_fc: 450, cam_fc: 200}]\n",
        "\n",
        "        2. \"path?=path1,name?=name1, pose_fc?=450|path?=path2,name?=name2\", this input will be parsed as\n",
        "        [{path: path1, name: name1, fps: 25, pose_fc: 450, cam_fc: 150},\n",
        "         {path: path2, name: name2, fps: 25, pose_fc: 300, cam_fc: 150}].\n",
        "\n",
        "        3. \"path?=path1|path?=path2\", this input will be parsed as\n",
        "        [{path: path1, fps:25, pose_fc: 300, cam_fc: 150}, {path: path2, fps: 25, pose_fc: 300, cam_fc: 150}].\n",
        "\n",
        "        4. \"path1|path2\", this input will be parsed as\n",
        "        [{path: path1, fps:25, pose_fc: 300, cam_fc: 150}, {path: path2, fps: 25, pose_fc: 300, cam_fc: 150}].\n",
        "\n",
        "        5. \"path1\", this will be parsed as [{path: path1, fps: 25, pose_fc: 300, cam_fc: 150}]."
      ]
    },
    {
      "cell_type": "markdown",
      "metadata": {
        "id": "vme5bj8xmfsC"
      },
      "source": [
        "## Run Scripts"
      ]
    },
    {
      "cell_type": "code",
      "metadata": {
        "id": "QNWVyAaeOhHP"
      },
      "source": [
        "# the gpu ids\n",
        "gpu_ids = \"0\"\n",
        "\n",
        "# the image size\n",
        "image_size = 512\n",
        "\n",
        "# the default number of source images, it will be updated if the actual number of sources <= num_source\n",
        "num_source = 2\n",
        "\n",
        "# the assets directory. This is very important, please download it from `one_drive_url` firstly.\n",
        "assets_dir = \"/content/iPERCore/assets\"\n",
        "\n",
        "# the output directory.\n",
        "output_dir = \"./results\"\n",
        "\n",
        "# the model id of this case. This is a random model name.\n",
        "# model_id = \"model_\" + str(time.time())\n",
        "\n",
        "# # This is a specific model name, and it will be used if you do not change it.\n",
        "# model_id = \"axing_1\"\n",
        "\n",
        "# symlink from the actual assets directory to this current directory\n",
        "work_asserts_dir = os.path.join(\"./assets\")\n",
        "if not os.path.exists(work_asserts_dir):\n",
        "    os.symlink(osp.abspath(assets_dir), osp.abspath(work_asserts_dir),\n",
        "               target_is_directory=(platform.system() == \"Windows\"))\n",
        "\n",
        "cfg_path = osp.join(work_asserts_dir, \"configs\", \"deploy.toml\")\n"
      ],
      "execution_count": 11,
      "outputs": []
    },
    {
      "cell_type": "markdown",
      "metadata": {
        "id": "RGKRtrNgZ14V"
      },
      "source": [
        "### Run the `trump` case\n",
        "In this case, there is only a frontal body image as the source inputs."
      ]
    },
    {
      "cell_type": "code",
      "metadata": {
        "id": "ETaQCD0t1qqO"
      },
      "source": [
        "# This is a specific model name, and it will be used if you do not change it. This is the case of `trump`\n",
        "model_id = \"donald_trump_2\"\n",
        "\n",
        "# the source input information, here \\\" is escape character of double duote \"\n",
        "src_path = \"\\\"path?=/content/iPERCore/assets/samples/sources/donald_trump_2/00000.PNG,name?=donald_trump_2\\\"\"\n",
        "\n",
        "\n",
        "## the reference input information. There are three reference videos in this case.\n",
        "# here \\\" is escape character of double duote \"\n",
        "# ref_path = \"\\\"path?=/content/iPERCore/assets/samples/references/akun_1.mp4,\" \\\n",
        "#              \"name?=akun_2,\" \\\n",
        "#              \"pose_fc?=300\\\"\"\n",
        "\n",
        "ref_path = \"\\\"path?=/content/iPERCore/assets/samples/references/mabaoguo_short.mp4,\" \\\n",
        "             \"name?=mabaoguo_short,\" \\\n",
        "             \"pose_fc?=400\\\"\"\n",
        "\n",
        "# ref_path = \"\\\"path?=/content/iPERCore/assets/samples/references/akun_1.mp4,\"  \\\n",
        "#              \"name?=akun_2,\" \\\n",
        "#              \"pose_fc?=300|\" \\\n",
        "#              \"path?=/content/iPERCore/assets/samples/references/mabaoguo_short.mp4,\" \\\n",
        "#              \"name?=mabaoguo_short,\" \\\n",
        "#              \"pose_fc?=400\\\"\"\n",
        "\n",
        "print(ref_path)\n",
        "\n",
        "!python -m iPERCore.services.run_imitator  \\\n",
        "  --gpu_ids     $gpu_ids       \\\n",
        "  --num_source  $num_source    \\\n",
        "  --image_size  $image_size    \\\n",
        "  --output_dir  $output_dir    \\\n",
        "  --model_id    $model_id      \\\n",
        "  --cfg_path    $cfg_path      \\\n",
        "  --src_path    $src_path      \\\n",
        "  --ref_path    $ref_path"
      ],
      "execution_count": null,
      "outputs": []
    },
    {
      "cell_type": "code",
      "metadata": {
        "id": "mfjZuFMjVJlE"
      },
      "source": [
        "mp4 = open(\"./results/primitives/donald_trump_2/synthesis/imitations/donald_trump_2-akun_2.mp4\", \"rb\").read()\n",
        "data_url = \"data:video/mp4;base64,\" + b64encode(mp4).decode()\n",
        "HTML(f\"\"\"\n",
        "<video width=\"100%\" height=\"100%\" controls>\n",
        "      <source src=\"{data_url}\" type=\"video/mp4\">\n",
        "</video>\"\"\")"
      ],
      "execution_count": null,
      "outputs": []
    },
    {
      "cell_type": "code",
      "metadata": {
        "id": "lavOW9ScV1z5"
      },
      "source": [
        "mp4 = open(\"./results/primitives/donald_trump_2/synthesis/imitations/donald_trump_2-mabaoguo_short.mp4\", \"rb\").read()\n",
        "data_url = \"data:video/mp4;base64,\" + b64encode(mp4).decode()\n",
        "HTML(f\"\"\"\n",
        "<video width=\"100%\" height=\"100%\" controls>\n",
        "      <source src=\"{data_url}\" type=\"video/mp4\">\n",
        "</video>\"\"\")"
      ],
      "execution_count": null,
      "outputs": []
    },
    {
      "cell_type": "markdown",
      "metadata": {
        "id": "g4VE-xt7U3St"
      },
      "source": [
        "### Run the `axing_1` case\n",
        "In this case, there are two source images. The one is the frontal image, and the other is the backside image."
      ]
    },
    {
      "cell_type": "code",
      "metadata": {
        "id": "kSoXbrc6_81W"
      },
      "source": [
        "# This is a specific model name, and it will be used if you do not change it. This is the case of `trump`\n",
        "model_id = \"axing_1\"\n",
        "\n",
        "# the source input information, here \\\" is escape character of double duote \"\n",
        "src_path = \"\\\"path?=/content/iPERCore/assets/samples/sources/axing_1,name?=axing_1\\\"\"\n",
        "\n",
        "\n",
        "## the reference input information. There are three reference videos in this case.\n",
        "# here \\\" is escape character of double duote \"\n",
        "ref_path = \"\\\"path?=/content/iPERCore/assets/samples/references/bantangzhuyi_1.mp4,\" \\\n",
        "             \"name?=bantangzhuyi_1,\" \\\n",
        "             \"pose_fc?=300\\\"\"\n",
        "\n",
        "print(ref_path)\n",
        "\n",
        "!python -m iPERCore.services.run_imitator  \\\n",
        "  --gpu_ids     $gpu_ids       \\\n",
        "  --num_source  $num_source    \\\n",
        "  --image_size  $image_size    \\\n",
        "  --output_dir  $output_dir    \\\n",
        "  --model_id    $model_id      \\\n",
        "  --cfg_path    $cfg_path      \\\n",
        "  --src_path    $src_path      \\\n",
        "  --ref_path    $ref_path"
      ],
      "execution_count": null,
      "outputs": []
    },
    {
      "cell_type": "code",
      "metadata": {
        "id": "MX5PP6qyW6qA"
      },
      "source": [
        "mp4 = open(\"./results/primitives/axing_1/synthesis/imitations/axing_1-bantangzhuyi_1.mp4\", \"rb\").read()\n",
        "data_url = \"data:video/mp4;base64,\" + b64encode(mp4).decode()\n",
        "HTML(f\"\"\"\n",
        "<video width=\"100%\" height=\"100%\" controls>\n",
        "      <source src=\"{data_url}\" type=\"video/mp4\">\n",
        "</video>\"\"\")"
      ],
      "execution_count": null,
      "outputs": []
    },
    {
      "cell_type": "markdown",
      "metadata": {
        "id": "l7PZuUISa3S-"
      },
      "source": [
        "### Run the `afan_6` case\n",
        "In this case, there are two source images, as well as a real background image."
      ]
    },
    {
      "cell_type": "code",
      "metadata": {
        "id": "AYMXto9PAb9n"
      },
      "source": [
        "# This is a specific model name, and it will be used if you do not change it. This is the case of `trump`\n",
        "model_id = \"afan_6=ns=2\"\n",
        "\n",
        "# the source input information, here \\\" is escape character of double duote \"\n",
        "src_path = \"\\\"path?=/content/iPERCore/assets/samples/sources/afan_6/afan_6=ns=2,\" \\\n",
        "             \"name?=afan_6=ns=2,\" \\\n",
        "             \"bg_path?=/content/iPERCore/assets/samples/sources/afan_6/IMG_7217.JPG\\\"\"\n",
        "\n",
        "## the reference input information. There are three reference videos in this case.\n",
        "# here \\\" is escape character of double duote \"\n",
        "ref_path = \"\\\"path?=/content/iPERCore/assets/samples/references/akGexYZug2Q_2.mp4.mp4,\" \\\n",
        "             \"name?=akGexYZug2Q_2,\" \\\n",
        "             \"pose_fc?=300\\\"\"\n",
        "\n",
        "print(ref_path)\n",
        "\n",
        "!python -m iPERCore.services.run_imitator  \\\n",
        "  --gpu_ids     $gpu_ids       \\\n",
        "  --num_source  $num_source    \\\n",
        "  --image_size  $image_size    \\\n",
        "  --output_dir  $output_dir    \\\n",
        "  --model_id    $model_id      \\\n",
        "  --cfg_path    $cfg_path      \\\n",
        "  --src_path    $src_path      \\\n",
        "  --ref_path    $ref_path"
      ],
      "execution_count": null,
      "outputs": []
    },
    {
      "cell_type": "code",
      "metadata": {
        "id": "xxfAGLOEdjVB"
      },
      "source": [
        "mp4 = open(\"./results/primitives/afan_6=ns=2/synthesis/imitations/afan_6=ns=2-akGexYZug2Q_2.mp4\", \"rb\").read()\n",
        "data_url = \"data:video/mp4;base64,\" + b64encode(mp4).decode()\n",
        "HTML(f\"\"\"\n",
        "<video width=\"100%\" height=\"100%\" controls>\n",
        "      <source src=\"{data_url}\" type=\"video/mp4\">\n",
        "</video>\"\"\")"
      ],
      "execution_count": null,
      "outputs": []
    },
    {
      "cell_type": "markdown",
      "metadata": {
        "id": "g7oH0Np6bpgb"
      },
      "source": [
        "### Run your custom inputs\n",
        "You can upload your own custom source images, and reference videos with the followings guidelines."
      ]
    },
    {
      "cell_type": "markdown",
      "metadata": {
        "id": "bH9QHYKUiqXH"
      },
      "source": [
        "#### Source Guidelines:\n",
        " - Try to capture the source images with the same static background without too complex scene structures. If possible, we recommend using the\n",
        "actual background.\n",
        " - The person in the source images holds an A-pose for introducing the most visible textures.\n",
        " - It is recommended to capture the source images in an environment without too much contrast in lighting conditions and lock auto-exposure and auto-focus of the camera."
      ]
    },
    {
      "cell_type": "markdown",
      "metadata": {
        "id": "hJg2YdjYiulk"
      },
      "source": [
        "#### Reference Guidelines:\n",
        "  - Make sure that there is only **one** person in the reference video. Since,currently, our system does not support multiple people tracking. If there are multiple people, you need firstly use other video processing tools to crop the video.\n",
        "  - Make sure that capture the video with full body person. Half body will result in bad results.\n",
        "  - Try to capture the video with the static camera lens, and make sure that there is no too much zoom-in, zoom-out, panning, lens swichtings, and camera transitions. If there are multiple lens switchting and camera transitions, you need firstly use other video processing tools to crop the video."
      ]
    },
    {
      "cell_type": "code",
      "source": [
        "!pwd"
      ],
      "metadata": {
        "colab": {
          "base_uri": "https://localhost:8080/"
        },
        "id": "9c8XPPiJ7MCR",
        "outputId": "f9bd4bba-cb75-40af-f405-ee64adf722aa"
      },
      "execution_count": null,
      "outputs": [
        {
          "output_type": "stream",
          "name": "stdout",
          "text": [
            "/content/iPERCore\n"
          ]
        }
      ]
    },
    {
      "cell_type": "markdown",
      "source": [
        "# ⛔️ THIS IS WHERE YOU SPECIFY YOUR REFERENCE VIDEO AND YOUR TARGET IMAGE ⛔️"
      ],
      "metadata": {
        "id": "enmI_xNbXKNL"
      }
    },
    {
      "cell_type": "code",
      "metadata": {
        "id": "_t3IP0I0qtXs"
      },
      "source": [
        "# This is a specific model name, and it will be used if you do not change it. This is the case of `trump`\n",
        "model_id = \"afan_6=ns=2\"\n",
        "\n",
        "# the source input information, here \\\" is escape character of double duote \"\n",
        "# src_path = \"\\\"path?=/content/iPERCore/assets/samples/sources/afan_6/afan_6=ns=2,\" \\\n",
        "#              \"name?=afan_6=ns=2,\" \\\n",
        "#              \"bg_path?=/content/iPERCore/assets/samples/sources/afan_6/IMG_7217.JPG\\\"\"\n",
        "\n",
        "src_path = \"assets/samples/sources/me.jpg\"\n",
        "\n",
        "## the reference input information. There are three reference videos in this case.\n",
        "# here \\\" is escape character of double duote \"\n",
        "# ref_path = \"\\\"path?=/content/iPERCore/assets/samples/references/akGexYZug2Q_2.mp4.mp4,\" \\\n",
        "#              \"name?=akGexYZug2Q_2,\" \\\n",
        "#              \"pose_fc?=300\\\"\"\n",
        "\n",
        "ref_path = \"assets/samples/references/production.mp4\"\n",
        "\n",
        "print(ref_path)\n",
        "\n",
        "!python -m iPERCore.services.run_imitator  \\\n",
        "  --gpu_ids     $gpu_ids       \\\n",
        "  --num_source  $num_source    \\\n",
        "  --image_size  $image_size    \\\n",
        "  --output_dir  $output_dir    \\\n",
        "  --model_id    $model_id      \\\n",
        "  --cfg_path    $cfg_path      \\\n",
        "  --src_path    $src_path      \\\n",
        "  --ref_path    $ref_path"
      ],
      "execution_count": null,
      "outputs": []
    },
    {
      "cell_type": "markdown",
      "metadata": {
        "id": "hWoZFrQz5C4r"
      },
      "source": [
        "# Run Novel View Synthesis"
      ]
    },
    {
      "cell_type": "markdown",
      "metadata": {
        "id": "ZlUk3DWa5RKB"
      },
      "source": [
        "## Render Novel View with T-pose"
      ]
    },
    {
      "cell_type": "code",
      "metadata": {
        "id": "PbVu6K3w5FHF"
      },
      "source": [
        "!python demo/novel_view.py --gpu_ids 0 \\\n",
        "   --image_size 512 \\\n",
        "   --num_source 2   \\\n",
        "   --output_dir \"./results\" \\\n",
        "   --assets_dir \"./assets\"  \\\n",
        "   --model_id   \"afan_6=ns=2\" \\\n",
        "   --src_path   \"path?=./assets/samples/sources/afan_6/afan_6=ns=2,name?=afan_6=ns=2,bg_path?=./assets/samples/sources/afan_6/IMG_7217.JPG\" \\\n",
        "   --T_pose"
      ],
      "execution_count": null,
      "outputs": []
    }
  ]
}