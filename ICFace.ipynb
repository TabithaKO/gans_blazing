{
  "nbformat": 4,
  "nbformat_minor": 0,
  "metadata": {
    "colab": {
      "name": "ICFace.ipynb",
      "provenance": [],
      "collapsed_sections": [],
      "machine_shape": "hm"
    },
    "kernelspec": {
      "name": "python3",
      "display_name": "Python 3"
    },
    "language_info": {
      "name": "python"
    },
    "accelerator": "GPU"
  },
  "cells": [
    {
      "cell_type": "code",
      "execution_count": null,
      "metadata": {
        "colab": {
          "base_uri": "https://localhost:8080/"
        },
        "id": "nwgwiXP0XKcF",
        "outputId": "7bcdbcda-6334-4612-bb70-626dc4178a60"
      },
      "outputs": [
        {
          "output_type": "stream",
          "name": "stdout",
          "text": [
            "Cloning into 'icface'...\n",
            "remote: Enumerating objects: 217, done.\u001b[K\n",
            "remote: Counting objects: 100% (41/41), done.\u001b[K\n",
            "remote: Compressing objects: 100% (35/35), done.\u001b[K\n",
            "remote: Total 217 (delta 13), reused 29 (delta 6), pack-reused 176\u001b[K\n",
            "Receiving objects: 100% (217/217), 13.07 MiB | 10.62 MiB/s, done.\n",
            "Resolving deltas: 100% (42/42), done.\n",
            "Checking out files: 100% (199/199), done.\n"
          ]
        }
      ],
      "source": [
        "!git clone https://github.com/Blade6570/icface.git"
      ]
    },
    {
      "cell_type": "markdown",
      "source": [
        "If your notebook is not connected to drive then skip this cell"
      ],
      "metadata": {
        "id": "OgvEeB8JKoNy"
      }
    },
    {
      "cell_type": "code",
      "source": [
        "%cd drive/MyDrive/"
      ],
      "metadata": {
        "colab": {
          "base_uri": "https://localhost:8080/"
        },
        "id": "fL-0bZvzX2x1",
        "outputId": "4d5b2378-a5f3-4407-afd4-6a1890215685"
      },
      "execution_count": null,
      "outputs": [
        {
          "output_type": "stream",
          "name": "stdout",
          "text": [
            "/content/drive/MyDrive\n"
          ]
        }
      ]
    },
    {
      "cell_type": "code",
      "source": [
        "%cd icface/"
      ],
      "metadata": {
        "colab": {
          "base_uri": "https://localhost:8080/"
        },
        "id": "ZPNKiErTX8OC",
        "outputId": "3c3f4d7d-aeeb-48ca-cf94-04f779961786"
      },
      "execution_count": null,
      "outputs": [
        {
          "output_type": "stream",
          "name": "stdout",
          "text": [
            "/content/drive/MyDrive/icface\n"
          ]
        }
      ]
    },
    {
      "cell_type": "code",
      "source": [
        "%cd test_code_released_new"
      ],
      "metadata": {
        "colab": {
          "base_uri": "https://localhost:8080/"
        },
        "id": "UqAG67uEYETS",
        "outputId": "4a2742bd-7bf3-4118-9bc0-86941498228e"
      },
      "execution_count": null,
      "outputs": [
        {
          "output_type": "stream",
          "name": "stdout",
          "text": [
            "/content/drive/MyDrive/icface/test_code_released_new\n"
          ]
        }
      ]
    },
    {
      "cell_type": "code",
      "source": [
        "import torch"
      ],
      "metadata": {
        "id": "9A99gdiqd-OY"
      },
      "execution_count": null,
      "outputs": []
    },
    {
      "cell_type": "markdown",
      "source": [
        "I changed:\n",
        "\n",
        "- The gpus to '0' in the base_options.py file\n",
        "- I changed 'asyc' keyword to 'non_blocking' in pixtopix model.py line 118\n",
        "- I changed the gpu_ids argument from 1 to 0"
      ],
      "metadata": {
        "id": "itp_Vqi7eyy5"
      }
    },
    {
      "cell_type": "markdown",
      "source": [
        "To test on a custom video and target face follow the instructions on the main repository [README](https://github.com/Blade6570/icface) You can create the .csv file your driving video using my [openface notebook]()"
      ],
      "metadata": {
        "id": "BJIZJCbqKKoC"
      }
    },
    {
      "cell_type": "code",
      "source": [
        "!python test.py --dataroot ./ --model pix2pix --which_model_netG resnet_6blocks --which_direction AtoB --dataset_mode aligned --norm batch --display_id 0 --batchSize 1 --loadSize 128 --fineSize 128 --no_flip --name gpubatch_resnet --how_many 1 --ndf 256 --ngf 128 --which_ref ./new_crop/10.jpg --gpu_ids 0 --csv_path video.csv --results_dir results_video"
      ],
      "metadata": {
        "id": "BoMUvkxoYGf2"
      },
      "execution_count": null,
      "outputs": []
    },
    {
      "cell_type": "markdown",
      "source": [
        "Your result is saved as movie.mp4 in the icface directory :)"
      ],
      "metadata": {
        "id": "fut-KNRAKyx4"
      }
    }
  ]
}